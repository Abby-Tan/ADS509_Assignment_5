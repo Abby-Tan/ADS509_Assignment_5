{
 "cells": [
  {
   "cell_type": "markdown",
   "metadata": {},
   "source": [
    "#### ADS 509\n",
    "#### Assignment 2\n",
    "#### Abby Tan\n",
    "#### GitHub Link: https://github.com/Abby-Tan/ADS509_Assignment_5"
   ]
  },
  {
   "cell_type": "markdown",
   "metadata": {},
   "source": [
    "# ADS 509 Assignment 5.1: Topic Modeling\n",
    "\n",
    "This notebook holds Assignment 5.1 for Module 5 in ADS 509, Applied Text Mining. Work through this notebook, writing code and answering questions where required. \n",
    "\n",
    "In this assignment you will work with a categorical corpus that accompanies `nltk`. You will build the three types of topic models described in Chapter 8 of _Blueprints for Text Analytics using Python_: NMF, LSA, and LDA. You will compare these models to the true categories. \n"
   ]
  },
  {
   "cell_type": "markdown",
   "metadata": {},
   "source": [
    "## General Assignment Instructions\n",
    "\n",
    "These instructions are included in every assignment, to remind you of the coding standards for the class. Feel free to delete this cell after reading it. \n",
    "\n",
    "One sign of mature code is conforming to a style guide. We recommend the [Google Python Style Guide](https://google.github.io/styleguide/pyguide.html). If you use a different style guide, please include a cell with a link. \n",
    "\n",
    "Your code should be relatively easy-to-read, sensibly commented, and clean. Writing code is a messy process, so please be sure to edit your final submission. Remove any cells that are not needed or parts of cells that contain unnecessary code. Remove inessential `import` statements and make sure that all such statements are moved into the designated cell. \n",
    "\n",
    "Make use of non-code cells for written commentary. These cells should be grammatical and clearly written. In some of these cells you will have questions to answer. The questions will be marked by a \"Q:\" and will have a corresponding \"A:\" spot for you. *Make sure to answer every question marked with a `Q:` for full credit.* \n"
   ]
  },
  {
   "cell_type": "code",
   "execution_count": 108,
   "metadata": {},
   "outputs": [
    {
     "name": "stderr",
     "output_type": "stream",
     "text": [
      "[nltk_data] Downloading package brown to\n",
      "[nltk_data]     C:\\Users\\abby0\\AppData\\Roaming\\nltk_data...\n",
      "[nltk_data]   Package brown is already up-to-date!\n"
     ]
    },
    {
     "data": {
      "text/plain": [
       "True"
      ]
     },
     "execution_count": 108,
     "metadata": {},
     "output_type": "execute_result"
    }
   ],
   "source": [
    "# add any additional libaries you need here\n",
    "import warnings\n",
    "warnings.filterwarnings(\"ignore\")\n",
    "\n",
    "import nltk\n",
    "nltk.download('brown')"
   ]
  },
  {
   "cell_type": "code",
   "execution_count": 241,
   "metadata": {},
   "outputs": [],
   "source": [
    "# These libraries may be useful to you\n",
    "\n",
    "from nltk.corpus import brown\n",
    "\n",
    "import numpy as np\n",
    "import pandas as pd\n",
    "from tqdm.auto import tqdm\n",
    "\n",
    "#import gensim\n",
    "#import gensim.corpora as corpora\n",
    "#from gensim.utils import simple_preprocess\n",
    "#from gensim.models import CoherenceModel,LdaMulticore, Phrases \n",
    "#from gensim.models.phrases import Phraser \n",
    "#from gensim.corpora import Dictionary\n",
    "\n",
    "import pyLDAvis\n",
    "import pyLDAvis.sklearn\n",
    "import pyLDAvis.gensim_models\n",
    "\n",
    "import spacy\n",
    "from sklearn.feature_extraction.text import TfidfVectorizer, CountVectorizer\n",
    "from sklearn.decomposition import NMF, TruncatedSVD, LatentDirichletAllocation\n",
    "\n",
    "from spacy.lang.en.stop_words import STOP_WORDS as stopwords\n",
    "\n",
    "from collections import Counter, defaultdict\n",
    "\n",
    "nlp = spacy.load('en_core_web_sm')"
   ]
  },
  {
   "cell_type": "code",
   "execution_count": 242,
   "metadata": {},
   "outputs": [],
   "source": [
    "# This function comes from the BTAP repo.\n",
    "\n",
    "def display_topics(model, features, no_top_words=5):\n",
    "    for topic, words in enumerate(model.components_):\n",
    "        total = words.sum()\n",
    "        largest = words.argsort()[::-1] # invert sort order\n",
    "        print(\"\\nTopic %02d\" % topic)\n",
    "        for i in range(0, no_top_words):\n",
    "            print(\"  %s (%2.2f)\" % (features[largest[i]], abs(words[largest[i]]*100.0/total)))"
   ]
  },
  {
   "cell_type": "markdown",
   "metadata": {},
   "source": [
    "## Getting to Know the Brown Corpus\n",
    "\n",
    "Let's spend a bit of time getting to know what's in the Brown corpus, our NLTK example of an \"overlapping\" corpus."
   ]
  },
  {
   "cell_type": "code",
   "execution_count": 243,
   "metadata": {},
   "outputs": [
    {
     "name": "stdout",
     "output_type": "stream",
     "text": [
      "For adventure we have 29 articles.\n",
      "For belles_lettres we have 75 articles.\n",
      "For editorial we have 27 articles.\n",
      "For fiction we have 29 articles.\n",
      "For government we have 30 articles.\n",
      "For hobbies we have 36 articles.\n",
      "For humor we have 9 articles.\n",
      "For learned we have 80 articles.\n",
      "For lore we have 48 articles.\n",
      "For mystery we have 24 articles.\n",
      "For news we have 44 articles.\n",
      "For religion we have 17 articles.\n",
      "For reviews we have 17 articles.\n",
      "For romance we have 29 articles.\n",
      "For science_fiction we have 6 articles.\n"
     ]
    }
   ],
   "source": [
    "# categories of articles in Brown corpus\n",
    "for category in brown.categories() :\n",
    "    print(f\"For {category} we have {len(brown.fileids(categories=category))} articles.\")"
   ]
  },
  {
   "cell_type": "markdown",
   "metadata": {},
   "source": [
    "Let's create a dataframe of the articles in of hobbies, editorial, government, news, and romance."
   ]
  },
  {
   "cell_type": "code",
   "execution_count": 244,
   "metadata": {},
   "outputs": [
    {
     "data": {
      "text/plain": [
       "(166, 3)"
      ]
     },
     "execution_count": 244,
     "metadata": {},
     "output_type": "execute_result"
    }
   ],
   "source": [
    "categories = ['editorial','government','news','romance','hobbies'] \n",
    "\n",
    "category_list = []\n",
    "file_ids = []\n",
    "texts = []\n",
    "\n",
    "for category in categories : \n",
    "    for file_id in brown.fileids(categories=category) :\n",
    "        \n",
    "        # build some lists for a dataframe\n",
    "        category_list.append(category)\n",
    "        file_ids.append(file_id)\n",
    "        \n",
    "        text = brown.words(fileids=file_id)\n",
    "        texts.append(\" \".join(text))\n",
    "\n",
    "        \n",
    "        \n",
    "df = pd.DataFrame()\n",
    "df['category'] = category_list\n",
    "df['id'] = file_ids\n",
    "df['text'] = texts \n",
    "\n",
    "df.shape"
   ]
  },
  {
   "cell_type": "code",
   "execution_count": 245,
   "metadata": {},
   "outputs": [],
   "source": [
    "# Let's add some helpful columns on the df\n",
    "df['char_len'] = df['text'].apply(len)\n",
    "df['word_len'] = df['text'].apply(lambda x: len(x.split()))"
   ]
  },
  {
   "cell_type": "code",
   "execution_count": 246,
   "metadata": {},
   "outputs": [
    {
     "data": {
      "text/plain": [
       "<matplotlib.axes._subplots.AxesSubplot at 0x209532856d0>"
      ]
     },
     "execution_count": 246,
     "metadata": {},
     "output_type": "execute_result"
    },
    {
     "data": {
      "image/png": "[encoded data removed]",
      "text/plain": [
       "<Figure size 720x432 with 1 Axes>"
      ]
     },
     "metadata": {
      "needs_background": "light"
     },
     "output_type": "display_data"
    }
   ],
   "source": [
    "%matplotlib inline\n",
    "df.groupby('category').agg({'word_len': 'mean'}).plot.bar(figsize=(10,6))"
   ]
  },
  {
   "cell_type": "markdown",
   "metadata": {},
   "source": [
    "Now do our TF-IDF and Count vectorizations."
   ]
  },
  {
   "cell_type": "code",
   "execution_count": 247,
   "metadata": {},
   "outputs": [
    {
     "data": {
      "text/plain": [
       "(166, 4941)"
      ]
     },
     "execution_count": 247,
     "metadata": {},
     "output_type": "execute_result"
    }
   ],
   "source": [
    "count_text_vectorizer = CountVectorizer(stop_words=stopwords, min_df=5, max_df=0.7)\n",
    "count_text_vectors = count_text_vectorizer.fit_transform(df[\"text\"])\n",
    "count_text_vectors.shape"
   ]
  },
  {
   "cell_type": "code",
   "execution_count": 293,
   "metadata": {},
   "outputs": [
    {
     "data": {
      "text/html": [
       "<div>\n",
       "<style scoped>\n",
       "    .dataframe tbody tr th:only-of-type {\n",
       "        vertical-align: middle;\n",
       "    }\n",
       "\n",
       "    .dataframe tbody tr th {\n",
       "        vertical-align: top;\n",
       "    }\n",
       "\n",
       "    .dataframe thead th {\n",
       "        text-align: right;\n",
       "    }\n",
       "</style>\n",
       "<table border=\"1\" class=\"dataframe\">\n",
       "  <thead>\n",
       "    <tr style=\"text-align: right;\">\n",
       "      <th></th>\n",
       "      <th>0</th>\n",
       "      <th>1</th>\n",
       "      <th>2</th>\n",
       "      <th>3</th>\n",
       "      <th>4</th>\n",
       "      <th>5</th>\n",
       "      <th>6</th>\n",
       "      <th>7</th>\n",
       "      <th>8</th>\n",
       "      <th>9</th>\n",
       "      <th>...</th>\n",
       "      <th>4931</th>\n",
       "      <th>4932</th>\n",
       "      <th>4933</th>\n",
       "      <th>4934</th>\n",
       "      <th>4935</th>\n",
       "      <th>4936</th>\n",
       "      <th>4937</th>\n",
       "      <th>4938</th>\n",
       "      <th>4939</th>\n",
       "      <th>4940</th>\n",
       "    </tr>\n",
       "  </thead>\n",
       "  <tbody>\n",
       "    <tr>\n",
       "      <th>0</th>\n",
       "      <td>0</td>\n",
       "      <td>3</td>\n",
       "      <td>0</td>\n",
       "      <td>0</td>\n",
       "      <td>0</td>\n",
       "      <td>0</td>\n",
       "      <td>0</td>\n",
       "      <td>1</td>\n",
       "      <td>0</td>\n",
       "      <td>1</td>\n",
       "      <td>...</td>\n",
       "      <td>0</td>\n",
       "      <td>0</td>\n",
       "      <td>0</td>\n",
       "      <td>1</td>\n",
       "      <td>0</td>\n",
       "      <td>0</td>\n",
       "      <td>0</td>\n",
       "      <td>0</td>\n",
       "      <td>0</td>\n",
       "      <td>0</td>\n",
       "    </tr>\n",
       "    <tr>\n",
       "      <th>1</th>\n",
       "      <td>0</td>\n",
       "      <td>3</td>\n",
       "      <td>0</td>\n",
       "      <td>0</td>\n",
       "      <td>0</td>\n",
       "      <td>1</td>\n",
       "      <td>0</td>\n",
       "      <td>1</td>\n",
       "      <td>0</td>\n",
       "      <td>0</td>\n",
       "      <td>...</td>\n",
       "      <td>0</td>\n",
       "      <td>0</td>\n",
       "      <td>0</td>\n",
       "      <td>3</td>\n",
       "      <td>0</td>\n",
       "      <td>0</td>\n",
       "      <td>0</td>\n",
       "      <td>0</td>\n",
       "      <td>2</td>\n",
       "      <td>0</td>\n",
       "    </tr>\n",
       "    <tr>\n",
       "      <th>2</th>\n",
       "      <td>0</td>\n",
       "      <td>0</td>\n",
       "      <td>0</td>\n",
       "      <td>2</td>\n",
       "      <td>0</td>\n",
       "      <td>0</td>\n",
       "      <td>0</td>\n",
       "      <td>0</td>\n",
       "      <td>0</td>\n",
       "      <td>0</td>\n",
       "      <td>...</td>\n",
       "      <td>0</td>\n",
       "      <td>0</td>\n",
       "      <td>0</td>\n",
       "      <td>0</td>\n",
       "      <td>2</td>\n",
       "      <td>0</td>\n",
       "      <td>0</td>\n",
       "      <td>0</td>\n",
       "      <td>0</td>\n",
       "      <td>0</td>\n",
       "    </tr>\n",
       "  </tbody>\n",
       "</table>\n",
       "<p>3 rows × 4941 columns</p>\n",
       "</div>"
      ],
      "text/plain": [
       "   0     1     2     3     4     5     6     7     8     9     ...  4931  \\\n",
       "0     0     3     0     0     0     0     0     1     0     1  ...     0   \n",
       "1     0     3     0     0     0     1     0     1     0     0  ...     0   \n",
       "2     0     0     0     2     0     0     0     0     0     0  ...     0   \n",
       "\n",
       "   4932  4933  4934  4935  4936  4937  4938  4939  4940  \n",
       "0     0     0     1     0     0     0     0     0     0  \n",
       "1     0     0     3     0     0     0     0     2     0  \n",
       "2     0     0     0     2     0     0     0     0     0  \n",
       "\n",
       "[3 rows x 4941 columns]"
      ]
     },
     "execution_count": 293,
     "metadata": {},
     "output_type": "execute_result"
    }
   ],
   "source": [
    "pd.DataFrame(count_text_vectors.toarray()).head(3)"
   ]
  },
  {
   "cell_type": "code",
   "execution_count": 319,
   "metadata": {},
   "outputs": [
    {
     "data": {
      "text/plain": [
       "(166, 4941)"
      ]
     },
     "execution_count": 319,
     "metadata": {},
     "output_type": "execute_result"
    }
   ],
   "source": [
    "tfidf_text_vectorizer = TfidfVectorizer(stop_words=stopwords, min_df=5, max_df=0.7)\n",
    "tfidf_text_vectors = tfidf_text_vectorizer.fit_transform(df['text'])\n",
    "tfidf_text_vectors.shape"
   ]
  },
  {
   "cell_type": "code",
   "execution_count": 313,
   "metadata": {},
   "outputs": [
    {
     "data": {
      "text/html": [
       "<div>\n",
       "<style scoped>\n",
       "    .dataframe tbody tr th:only-of-type {\n",
       "        vertical-align: middle;\n",
       "    }\n",
       "\n",
       "    .dataframe tbody tr th {\n",
       "        vertical-align: top;\n",
       "    }\n",
       "\n",
       "    .dataframe thead th {\n",
       "        text-align: right;\n",
       "    }\n",
       "</style>\n",
       "<table border=\"1\" class=\"dataframe\">\n",
       "  <thead>\n",
       "    <tr style=\"text-align: right;\">\n",
       "      <th></th>\n",
       "      <th>0</th>\n",
       "      <th>1</th>\n",
       "      <th>2</th>\n",
       "      <th>3</th>\n",
       "      <th>4</th>\n",
       "      <th>5</th>\n",
       "      <th>6</th>\n",
       "      <th>7</th>\n",
       "      <th>8</th>\n",
       "      <th>9</th>\n",
       "      <th>...</th>\n",
       "      <th>4931</th>\n",
       "      <th>4932</th>\n",
       "      <th>4933</th>\n",
       "      <th>4934</th>\n",
       "      <th>4935</th>\n",
       "      <th>4936</th>\n",
       "      <th>4937</th>\n",
       "      <th>4938</th>\n",
       "      <th>4939</th>\n",
       "      <th>4940</th>\n",
       "    </tr>\n",
       "  </thead>\n",
       "  <tbody>\n",
       "    <tr>\n",
       "      <th>0</th>\n",
       "      <td>0.0</td>\n",
       "      <td>0.046852</td>\n",
       "      <td>0.0</td>\n",
       "      <td>0.000000</td>\n",
       "      <td>0.0</td>\n",
       "      <td>0.000000</td>\n",
       "      <td>0.0</td>\n",
       "      <td>0.023450</td>\n",
       "      <td>0.0</td>\n",
       "      <td>0.019456</td>\n",
       "      <td>...</td>\n",
       "      <td>0.0</td>\n",
       "      <td>0.0</td>\n",
       "      <td>0.0</td>\n",
       "      <td>0.016895</td>\n",
       "      <td>0.000000</td>\n",
       "      <td>0.0</td>\n",
       "      <td>0.0</td>\n",
       "      <td>0.0</td>\n",
       "      <td>0.000000</td>\n",
       "      <td>0.0</td>\n",
       "    </tr>\n",
       "    <tr>\n",
       "      <th>1</th>\n",
       "      <td>0.0</td>\n",
       "      <td>0.040107</td>\n",
       "      <td>0.0</td>\n",
       "      <td>0.000000</td>\n",
       "      <td>0.0</td>\n",
       "      <td>0.015896</td>\n",
       "      <td>0.0</td>\n",
       "      <td>0.020074</td>\n",
       "      <td>0.0</td>\n",
       "      <td>0.000000</td>\n",
       "      <td>...</td>\n",
       "      <td>0.0</td>\n",
       "      <td>0.0</td>\n",
       "      <td>0.0</td>\n",
       "      <td>0.043389</td>\n",
       "      <td>0.000000</td>\n",
       "      <td>0.0</td>\n",
       "      <td>0.0</td>\n",
       "      <td>0.0</td>\n",
       "      <td>0.062348</td>\n",
       "      <td>0.0</td>\n",
       "    </tr>\n",
       "    <tr>\n",
       "      <th>2</th>\n",
       "      <td>0.0</td>\n",
       "      <td>0.000000</td>\n",
       "      <td>0.0</td>\n",
       "      <td>0.041794</td>\n",
       "      <td>0.0</td>\n",
       "      <td>0.000000</td>\n",
       "      <td>0.0</td>\n",
       "      <td>0.000000</td>\n",
       "      <td>0.0</td>\n",
       "      <td>0.000000</td>\n",
       "      <td>...</td>\n",
       "      <td>0.0</td>\n",
       "      <td>0.0</td>\n",
       "      <td>0.0</td>\n",
       "      <td>0.000000</td>\n",
       "      <td>0.034956</td>\n",
       "      <td>0.0</td>\n",
       "      <td>0.0</td>\n",
       "      <td>0.0</td>\n",
       "      <td>0.000000</td>\n",
       "      <td>0.0</td>\n",
       "    </tr>\n",
       "  </tbody>\n",
       "</table>\n",
       "<p>3 rows × 4941 columns</p>\n",
       "</div>"
      ],
      "text/plain": [
       "   0         1     2         3     4         5     6         7     8     \\\n",
       "0   0.0  0.046852   0.0  0.000000   0.0  0.000000   0.0  0.023450   0.0   \n",
       "1   0.0  0.040107   0.0  0.000000   0.0  0.015896   0.0  0.020074   0.0   \n",
       "2   0.0  0.000000   0.0  0.041794   0.0  0.000000   0.0  0.000000   0.0   \n",
       "\n",
       "       9     ...  4931  4932  4933      4934      4935  4936  4937  4938  \\\n",
       "0  0.019456  ...   0.0   0.0   0.0  0.016895  0.000000   0.0   0.0   0.0   \n",
       "1  0.000000  ...   0.0   0.0   0.0  0.043389  0.000000   0.0   0.0   0.0   \n",
       "2  0.000000  ...   0.0   0.0   0.0  0.000000  0.034956   0.0   0.0   0.0   \n",
       "\n",
       "       4939  4940  \n",
       "0  0.000000   0.0  \n",
       "1  0.062348   0.0  \n",
       "2  0.000000   0.0  \n",
       "\n",
       "[3 rows x 4941 columns]"
      ]
     },
     "execution_count": 313,
     "metadata": {},
     "output_type": "execute_result"
    }
   ],
   "source": [
    "pd.DataFrame(tfidf_text_vectors.toarray()).head(3)"
   ]
  },
  {
   "cell_type": "markdown",
   "metadata": {},
   "source": [
    "Q: What do the two data frames `count_text_vectors` and `tfidf_text_vectors` hold? \n",
    "\n",
    "A: The count_text_vectors data frame holds the count of words in each article, and the tfidf_text_vectors data frame holds the weights of each  word in the model. \n",
    "\n",
    "Reference: https://scikit-learn.org/stable/modules/feature_extraction.html"
   ]
  },
  {
   "cell_type": "markdown",
   "metadata": {},
   "source": [
    "## Fitting a Non-Negative Matrix Factorization Model\n",
    "\n",
    "In this section the code to fit a five-topic NMF model has already been written. This code comes directly from the [BTAP repo](https://github.com/blueprints-for-text-analytics-python/blueprints-text), which will help you tremendously in the coming sections. "
   ]
  },
  {
   "cell_type": "code",
   "execution_count": 163,
   "metadata": {},
   "outputs": [],
   "source": [
    "nmf_text_model = NMF(n_components=5, random_state=314)\n",
    "W_text_matrix = nmf_text_model.fit_transform(tfidf_text_vectors)\n",
    "H_text_matrix = nmf_text_model.components_"
   ]
  },
  {
   "cell_type": "code",
   "execution_count": 164,
   "metadata": {},
   "outputs": [
    {
     "name": "stdout",
     "output_type": "stream",
     "text": [
      "\n",
      "Topic 00\n",
      "  mr (0.51)\n",
      "  president (0.45)\n",
      "  kennedy (0.43)\n",
      "  united (0.42)\n",
      "  khrushchev (0.40)\n",
      "\n",
      "Topic 01\n",
      "  said (0.88)\n",
      "  didn (0.46)\n",
      "  ll (0.45)\n",
      "  thought (0.42)\n",
      "  man (0.37)\n",
      "\n",
      "Topic 02\n",
      "  state (0.40)\n",
      "  development (0.36)\n",
      "  tax (0.33)\n",
      "  sales (0.30)\n",
      "  program (0.25)\n",
      "\n",
      "Topic 03\n",
      "  mrs (2.61)\n",
      "  mr (0.78)\n",
      "  said (0.64)\n",
      "  miss (0.52)\n",
      "  car (0.51)\n",
      "\n",
      "Topic 04\n",
      "  game (1.01)\n",
      "  league (0.74)\n",
      "  ball (0.72)\n",
      "  baseball (0.71)\n",
      "  team (0.66)\n"
     ]
    }
   ],
   "source": [
    "display_topics(nmf_text_model, tfidf_text_vectorizer.get_feature_names())"
   ]
  },
  {
   "cell_type": "markdown",
   "metadata": {},
   "source": [
    "Now some work for you to do. Compare the NMF factorization to the original categories from the Brown Corpus.\n",
    "\n",
    "We are interested in the extent to which our NMF factorization agrees or disagrees with the original categories in the corpus. For each topic in your NMF model, tally the Brown categories and interpret the results. \n"
   ]
  },
  {
   "cell_type": "code",
   "execution_count": 170,
   "metadata": {},
   "outputs": [],
   "source": [
    "# Your code here"
   ]
  },
  {
   "cell_type": "code",
   "execution_count": 271,
   "metadata": {},
   "outputs": [],
   "source": [
    "nmf_W_text_matrix = pd.DataFrame(W_text_matrix)\n",
    "nmf_W_text_matrix.columns = ['Topic 00', 'Topic 01', 'Topic 02', 'Topic 03', 'Topic 04']\n",
    "nmf_W_text_matrix['Topic'] = nmf_W_text_matrix.idxmax(axis=1)"
   ]
  },
  {
   "cell_type": "code",
   "execution_count": 272,
   "metadata": {},
   "outputs": [],
   "source": [
    "nmf_topic = pd.concat([nmf_W_text_matrix[['Topic']], df[['category']]], axis=1 )"
   ]
  },
  {
   "cell_type": "code",
   "execution_count": 273,
   "metadata": {},
   "outputs": [
    {
     "data": {
      "text/html": [
       "<div>\n",
       "<style scoped>\n",
       "    .dataframe tbody tr th:only-of-type {\n",
       "        vertical-align: middle;\n",
       "    }\n",
       "\n",
       "    .dataframe tbody tr th {\n",
       "        vertical-align: top;\n",
       "    }\n",
       "\n",
       "    .dataframe thead th {\n",
       "        text-align: right;\n",
       "    }\n",
       "</style>\n",
       "<table border=\"1\" class=\"dataframe\">\n",
       "  <thead>\n",
       "    <tr style=\"text-align: right;\">\n",
       "      <th></th>\n",
       "      <th>Topic</th>\n",
       "      <th>category</th>\n",
       "    </tr>\n",
       "  </thead>\n",
       "  <tbody>\n",
       "    <tr>\n",
       "      <th>0</th>\n",
       "      <td>Topic 02</td>\n",
       "      <td>editorial</td>\n",
       "    </tr>\n",
       "    <tr>\n",
       "      <th>1</th>\n",
       "      <td>Topic 00</td>\n",
       "      <td>editorial</td>\n",
       "    </tr>\n",
       "    <tr>\n",
       "      <th>2</th>\n",
       "      <td>Topic 00</td>\n",
       "      <td>editorial</td>\n",
       "    </tr>\n",
       "  </tbody>\n",
       "</table>\n",
       "</div>"
      ],
      "text/plain": [
       "      Topic   category\n",
       "0  Topic 02  editorial\n",
       "1  Topic 00  editorial\n",
       "2  Topic 00  editorial"
      ]
     },
     "execution_count": 273,
     "metadata": {},
     "output_type": "execute_result"
    }
   ],
   "source": [
    "nmf_topic.head(3)"
   ]
  },
  {
   "cell_type": "code",
   "execution_count": 274,
   "metadata": {},
   "outputs": [
    {
     "data": {
      "text/plain": [
       "Topic     category  \n",
       "Topic 00  editorial     20\n",
       "          news           8\n",
       "          government     4\n",
       "Topic 01  romance       29\n",
       "          hobbies        8\n",
       "          editorial      4\n",
       "Topic 02  government    26\n",
       "          hobbies       26\n",
       "          news          11\n",
       "          editorial      2\n",
       "Topic 03  news          17\n",
       "          hobbies        1\n",
       "Topic 04  news           8\n",
       "          editorial      1\n",
       "          hobbies        1\n",
       "Name: category, dtype: int64"
      ]
     },
     "execution_count": 274,
     "metadata": {},
     "output_type": "execute_result"
    }
   ],
   "source": [
    "nmf_topic.groupby('Topic')['category'].value_counts()"
   ]
  },
  {
   "cell_type": "code",
   "execution_count": 303,
   "metadata": {},
   "outputs": [
    {
     "data": {
      "text/plain": [
       "category    Topic   \n",
       "editorial   Topic 00    20\n",
       "            Topic 01     4\n",
       "            Topic 02     2\n",
       "            Topic 04     1\n",
       "government  Topic 02    26\n",
       "            Topic 00     4\n",
       "hobbies     Topic 02    26\n",
       "            Topic 01     8\n",
       "            Topic 03     1\n",
       "            Topic 04     1\n",
       "news        Topic 03    17\n",
       "            Topic 02    11\n",
       "            Topic 00     8\n",
       "            Topic 04     8\n",
       "romance     Topic 01    29\n",
       "Name: Topic, dtype: int64"
      ]
     },
     "execution_count": 303,
     "metadata": {},
     "output_type": "execute_result"
    }
   ],
   "source": [
    "nmf_topic.groupby('category')['Topic'].value_counts()"
   ]
  },
  {
   "cell_type": "code",
   "execution_count": 302,
   "metadata": {},
   "outputs": [
    {
     "data": {
      "text/plain": [
       "news          44\n",
       "hobbies       36\n",
       "government    30\n",
       "romance       29\n",
       "editorial     27\n",
       "Name: category, dtype: int64"
      ]
     },
     "execution_count": 302,
     "metadata": {},
     "output_type": "execute_result"
    }
   ],
   "source": [
    "nmf_topic['category'].value_counts()"
   ]
  },
  {
   "cell_type": "markdown",
   "metadata": {},
   "source": [
    "Q: How does your five-topic NMF model compare to the original Brown categories? \n",
    "\n",
    "A: From the NMF model, Topic 00 and Topic 01 seem to be agreed with the original categories. There is a total of 27 articles in the Editorial category, and 20 records are labeled in Topic 00. A total of 29 articles in Romance, and 29 records are labeled in Topic 01\n",
    "\n",
    "The rest of the topics seem to be ambiguous. Topic 02 has 26 Governments and 26 Hobbits. From the keywords, Government seems to be more reasonable for Topic 02. Also, Topic 03 doesn't seem to be News from the keywords. Topic 04 seems to be Hobbit, but only one record from Hobbit is labeled in this topic."
   ]
  },
  {
   "cell_type": "markdown",
   "metadata": {},
   "source": [
    "## Fitting an LSA Model\n",
    "\n",
    "In this section, follow the example from the repository and fit an LSA model (called a \"TruncatedSVD\" in `sklearn`). Again fit a five-topic model and compare it to the actual categories in the Brown corpus. Use the TF-IDF vectors for your fit, as above. \n",
    "\n",
    "To be explicit, we are once again interested in the extent to which this LSA factorization agrees or disagrees with the original categories in the corpus. For each topic in your model, tally the Brown categories and interpret the results. \n"
   ]
  },
  {
   "cell_type": "code",
   "execution_count": 304,
   "metadata": {},
   "outputs": [],
   "source": [
    "# Your code here\n",
    "svd_text_model = TruncatedSVD(n_components=5, n_iter=7, random_state=314)\n",
    "svd_W_text_matrix = svd_text_model.fit_transform(tfidf_text_vectors)\n",
    "svd_H_text_matrix = svd_text_model.components_"
   ]
  },
  {
   "cell_type": "code",
   "execution_count": 309,
   "metadata": {},
   "outputs": [],
   "source": [
    "svd_W_text_matrix = pd.DataFrame(svd_W_text_matrix)\n",
    "svd_W_text_matrix.columns = ['Topic 00', 'Topic 01', 'Topic 02', 'Topic 03', 'Topic 04']\n",
    "svd_W_text_matrix['Topic'] = svd_W_text_matrix.idxmax(axis=1)"
   ]
  },
  {
   "cell_type": "code",
   "execution_count": 277,
   "metadata": {},
   "outputs": [
    {
     "data": {
      "text/html": [
       "<div>\n",
       "<style scoped>\n",
       "    .dataframe tbody tr th:only-of-type {\n",
       "        vertical-align: middle;\n",
       "    }\n",
       "\n",
       "    .dataframe tbody tr th {\n",
       "        vertical-align: top;\n",
       "    }\n",
       "\n",
       "    .dataframe thead th {\n",
       "        text-align: right;\n",
       "    }\n",
       "</style>\n",
       "<table border=\"1\" class=\"dataframe\">\n",
       "  <thead>\n",
       "    <tr style=\"text-align: right;\">\n",
       "      <th></th>\n",
       "      <th>Topic</th>\n",
       "      <th>category</th>\n",
       "    </tr>\n",
       "  </thead>\n",
       "  <tbody>\n",
       "    <tr>\n",
       "      <th>0</th>\n",
       "      <td>Topic 00</td>\n",
       "      <td>editorial</td>\n",
       "    </tr>\n",
       "    <tr>\n",
       "      <th>1</th>\n",
       "      <td>Topic 00</td>\n",
       "      <td>editorial</td>\n",
       "    </tr>\n",
       "    <tr>\n",
       "      <th>2</th>\n",
       "      <td>Topic 00</td>\n",
       "      <td>editorial</td>\n",
       "    </tr>\n",
       "  </tbody>\n",
       "</table>\n",
       "</div>"
      ],
      "text/plain": [
       "      Topic   category\n",
       "0  Topic 00  editorial\n",
       "1  Topic 00  editorial\n",
       "2  Topic 00  editorial"
      ]
     },
     "execution_count": 277,
     "metadata": {},
     "output_type": "execute_result"
    }
   ],
   "source": [
    "svd_topic = pd.concat([svd_W_text_matrix[['Topic']], df[['category']]], axis=1 )\n",
    "svd_topic.head(3)"
   ]
  },
  {
   "cell_type": "code",
   "execution_count": 278,
   "metadata": {},
   "outputs": [
    {
     "data": {
      "text/plain": [
       "Topic     category  \n",
       "Topic 00  hobbies       36\n",
       "          news          34\n",
       "          government    30\n",
       "          editorial     27\n",
       "          romance       21\n",
       "Topic 01  romance        8\n",
       "Topic 03  news           3\n",
       "Topic 04  news           7\n",
       "Name: category, dtype: int64"
      ]
     },
     "execution_count": 278,
     "metadata": {},
     "output_type": "execute_result"
    }
   ],
   "source": [
    "svd_topic.groupby('Topic')['category'].value_counts()"
   ]
  },
  {
   "cell_type": "markdown",
   "metadata": {},
   "source": [
    "Q: How does your five-topic LSA model compare to the original Brown categories? \n",
    "\n",
    "A: The LSA model has most of the records fall under Topic 1. Also, Topic 03 and 04 are only in the category of News. The model seems not performing well in terms of comparing to the original categories.  "
   ]
  },
  {
   "cell_type": "code",
   "execution_count": 197,
   "metadata": {},
   "outputs": [],
   "source": [
    "# call display_topics on your model"
   ]
  },
  {
   "cell_type": "code",
   "execution_count": 279,
   "metadata": {},
   "outputs": [
    {
     "name": "stdout",
     "output_type": "stream",
     "text": [
      "\n",
      "Topic 00\n",
      "  said (0.44)\n",
      "  mr (0.25)\n",
      "  mrs (0.22)\n",
      "  state (0.20)\n",
      "  man (0.17)\n",
      "\n",
      "Topic 01\n",
      "  said (3.89)\n",
      "  ll (2.73)\n",
      "  didn (2.63)\n",
      "  thought (2.20)\n",
      "  got (1.97)\n",
      "\n",
      "Topic 02\n",
      "  mrs (3.13)\n",
      "  mr (1.72)\n",
      "  said (1.04)\n",
      "  kennedy (0.81)\n",
      "  laos (0.77)\n",
      "\n",
      "Topic 03\n",
      "  mrs (29.43)\n",
      "  club (6.54)\n",
      "  game (6.11)\n",
      "  jr (5.61)\n",
      "  dallas (5.23)\n",
      "\n",
      "Topic 04\n",
      "  game (4.43)\n",
      "  league (3.18)\n",
      "  baseball (3.15)\n",
      "  ball (3.01)\n",
      "  team (2.88)\n"
     ]
    }
   ],
   "source": [
    "display_topics(svd_text_model, tfidf_text_vectorizer.get_feature_names())"
   ]
  },
  {
   "cell_type": "markdown",
   "metadata": {},
   "source": [
    "Q: What is your interpretation of the display topics output? \n",
    "\n",
    "A: The keywords seem to be similar in the first three topics and similar in the last 2 topics. The words in Topic 03 and 04 don't seem to be related with the category of News. "
   ]
  },
  {
   "cell_type": "markdown",
   "metadata": {},
   "source": [
    "## Fitting an LDA Model\n",
    "\n",
    "Finally, fit a five-topic LDA model using the count vectors (`count_text_vectors` from above). Display the results using `pyLDAvis.display` and describe what you learn from that visualization. "
   ]
  },
  {
   "cell_type": "code",
   "execution_count": 321,
   "metadata": {},
   "outputs": [],
   "source": [
    "# Fit your LDA model here\n",
    "lda_text_model = LatentDirichletAllocation(n_components=5, random_state=314)\n",
    "lda_W_text_matrix = lda_text_model.fit_transform(count_text_vectors)\n",
    "lda_H_svd_matrix = lda_text_model.components_"
   ]
  },
  {
   "cell_type": "code",
   "execution_count": 322,
   "metadata": {},
   "outputs": [],
   "source": [
    "lda_W_text_matrix = pd.DataFrame(lda_W_text_matrix)\n",
    "lda_W_text_matrix.columns = ['Topic 00', 'Topic 01', 'Topic 02', 'Topic 03', 'Topic 04']\n",
    "lda_W_text_matrix['Topic'] = lda_W_text_matrix.idxmax(axis=1)"
   ]
  },
  {
   "cell_type": "code",
   "execution_count": 323,
   "metadata": {},
   "outputs": [
    {
     "data": {
      "text/html": [
       "<div>\n",
       "<style scoped>\n",
       "    .dataframe tbody tr th:only-of-type {\n",
       "        vertical-align: middle;\n",
       "    }\n",
       "\n",
       "    .dataframe tbody tr th {\n",
       "        vertical-align: top;\n",
       "    }\n",
       "\n",
       "    .dataframe thead th {\n",
       "        text-align: right;\n",
       "    }\n",
       "</style>\n",
       "<table border=\"1\" class=\"dataframe\">\n",
       "  <thead>\n",
       "    <tr style=\"text-align: right;\">\n",
       "      <th></th>\n",
       "      <th>Topic</th>\n",
       "      <th>category</th>\n",
       "    </tr>\n",
       "  </thead>\n",
       "  <tbody>\n",
       "    <tr>\n",
       "      <th>0</th>\n",
       "      <td>Topic 02</td>\n",
       "      <td>editorial</td>\n",
       "    </tr>\n",
       "    <tr>\n",
       "      <th>1</th>\n",
       "      <td>Topic 02</td>\n",
       "      <td>editorial</td>\n",
       "    </tr>\n",
       "    <tr>\n",
       "      <th>2</th>\n",
       "      <td>Topic 02</td>\n",
       "      <td>editorial</td>\n",
       "    </tr>\n",
       "  </tbody>\n",
       "</table>\n",
       "</div>"
      ],
      "text/plain": [
       "      Topic   category\n",
       "0  Topic 02  editorial\n",
       "1  Topic 02  editorial\n",
       "2  Topic 02  editorial"
      ]
     },
     "execution_count": 323,
     "metadata": {},
     "output_type": "execute_result"
    }
   ],
   "source": [
    "lda_topic = pd.concat([lda_W_text_matrix[['Topic']], df[['category']]], axis=1 )\n",
    "lda_topic.head(3)"
   ]
  },
  {
   "cell_type": "code",
   "execution_count": 324,
   "metadata": {},
   "outputs": [
    {
     "data": {
      "text/plain": [
       "Topic     category  \n",
       "Topic 00  romance       28\n",
       "          hobbies       11\n",
       "          news           4\n",
       "          editorial      3\n",
       "          government     1\n",
       "Topic 01  government    12\n",
       "          hobbies        9\n",
       "          news           3\n",
       "          editorial      1\n",
       "Topic 02  news          32\n",
       "          editorial     21\n",
       "          government     3\n",
       "          hobbies        2\n",
       "          romance        1\n",
       "Topic 03  hobbies        8\n",
       "          government     4\n",
       "          news           3\n",
       "          editorial      2\n",
       "Topic 04  government    10\n",
       "          hobbies        6\n",
       "          news           2\n",
       "Name: category, dtype: int64"
      ]
     },
     "execution_count": 324,
     "metadata": {},
     "output_type": "execute_result"
    }
   ],
   "source": [
    "lda_topic.groupby('Topic')['catRregory'].value_counts()"
   ]
  },
  {
   "cell_type": "code",
   "execution_count": 328,
   "metadata": {},
   "outputs": [
    {
     "data": {
      "text/plain": [
       "category    Topic   \n",
       "editorial   Topic 02    21\n",
       "            Topic 00     3\n",
       "            Topic 03     2\n",
       "            Topic 01     1\n",
       "government  Topic 01    12\n",
       "            Topic 04    10\n",
       "            Topic 03     4\n",
       "            Topic 02     3\n",
       "            Topic 00     1\n",
       "hobbies     Topic 00    11\n",
       "            Topic 01     9\n",
       "            Topic 03     8\n",
       "            Topic 04     6\n",
       "            Topic 02     2\n",
       "news        Topic 02    32\n",
       "            Topic 00     4\n",
       "            Topic 01     3\n",
       "            Topic 03     3\n",
       "            Topic 04     2\n",
       "romance     Topic 00    28\n",
       "            Topic 02     1\n",
       "Name: Topic, dtype: int64"
      ]
     },
     "execution_count": 328,
     "metadata": {},
     "output_type": "execute_result"
    }
   ],
   "source": [
    "lda_topic.groupby('category')['Topic'].value_counts()"
   ]
  },
  {
   "cell_type": "code",
   "execution_count": 325,
   "metadata": {},
   "outputs": [
    {
     "name": "stdout",
     "output_type": "stream",
     "text": [
      "\n",
      "Topic 00\n",
      "  said (1.05)\n",
      "  mrs (0.82)\n",
      "  little (0.56)\n",
      "  good (0.51)\n",
      "  way (0.50)\n",
      "\n",
      "Topic 01\n",
      "  state (0.67)\n",
      "  development (0.63)\n",
      "  000 (0.57)\n",
      "  program (0.48)\n",
      "  business (0.44)\n",
      "\n",
      "Topic 02\n",
      "  said (1.18)\n",
      "  mr (0.72)\n",
      "  president (0.51)\n",
      "  city (0.43)\n",
      "  state (0.37)\n",
      "\n",
      "Topic 03\n",
      "  feed (0.55)\n",
      "  college (0.54)\n",
      "  general (0.44)\n",
      "  university (0.43)\n",
      "  work (0.37)\n",
      "\n",
      "Topic 04\n",
      "  states (1.14)\n",
      "  state (1.02)\n",
      "  united (0.84)\n",
      "  shall (0.66)\n",
      "  government (0.61)\n"
     ]
    }
   ],
   "source": [
    "# Call `display_topics` on your fitted model here\n",
    "display_topics(lda_text_model, tfidf_text_vectorizer.get_feature_names())"
   ]
  },
  {
   "cell_type": "markdown",
   "metadata": {},
   "source": [
    "Q: What inference do you draw from the displayed topics for your LDA model? \n",
    "\n",
    "A: The categories of Romance and Hobbies can have many similar words, as well as News and Editorial can have the same situation.\n",
    "\n",
    "Q: Repeat the tallying of Brown categories within your topics. How does your five-topic LDA model compare to the original Brown categories? \n",
    "\n",
    "A: Compare to the original categories, all the categories are not unique to the Topic. Most of the Romance and Hobbies articles are grouped on the same topic, and most of the  News and Editorial articles are grouped on the same topic. The category of Government is distributed 12 in Topic 01 and 10 in Topic 04."
   ]
  },
  {
   "cell_type": "code",
   "execution_count": 326,
   "metadata": {},
   "outputs": [],
   "source": [
    "lda_display = pyLDAvis.sklearn.prepare(lda_text_model, count_text_vectors, count_text_vectorizer, sort_topics=False)"
   ]
  },
  {
   "cell_type": "code",
   "execution_count": 327,
   "metadata": {},
   "outputs": [
    {
     "data": {
      "text/html": [
       "\n",
       "<link rel=\"stylesheet\" type=\"text/css\" href=\"https://cdn.jsdelivr.net/gh/bmabey/pyLDAvis@3.3.1/pyLDAvis/js/ldavis.v1.0.0.css\">\n",
       "\n",
       "\n",
       "<div id=\"ldavis_el1411222392107284646828075858\"></div>\n",
       "<script type=\"text/javascript\">\n",
       "\n",
       "var ldavis_el1411222392107284646828075858_data = {\"mdsDat\": {\"x\": [-0.24352303362204097, 0.13055719395526003, -0.05665667547392676, 0.041427484839751776, 0.12819503030095605], \"y\": [0.006829720679471841, -0.05588474470164733, 0.038523662874467644, -0.11285215230955757, 0.1233835134572653], \"topics\": [1, 2, 3, 4, 5], \"cluster\": [1, 1, 1, 1, 1], \"Freq\": [22.896957296534442, 20.43196854284188, 32.00626407252669, 12.36882561293214, 12.295984475164863]}, \"tinfo\": {\"Term\": [\"states\", \"state\", \"said\", \"mrs\", \"united\", \"shall\", \"development\", \"tax\", \"feed\", \"fiscal\", \"college\", \"government\", \"ll\", \"don\", \"000\", \"university\", \"department\", \"didn\", \"sales\", \"president\", \"rhode\", \"got\", \"equipment\", \"little\", \"mother\", \"class\", \"act\", \"program\", \"system\", \"property\", \"hair\", \"baby\", \"clothes\", \"walls\", \"anne\", \"fig\", \"pale\", \"pink\", \"dry\", \"yellow\", \"entrance\", \"hadn\", \"ham\", \"couldn\", \"frames\", \"fingers\", \"flowers\", \"windows\", \"bride\", \"hell\", \"handsome\", \"coat\", \"cloth\", \"sweet\", \"stared\", \"liked\", \"colored\", \"studio\", \"bed\", \"trees\", \"shelter\", \"mother\", \"looked\", \"clay\", \"wasn\", \"guests\", \"didn\", \"woman\", \"sat\", \"pieces\", \"colors\", \"eyes\", \"drill\", \"mrs\", \"ll\", \"don\", \"thought\", \"room\", \"sun\", \"inch\", \"ve\", \"black\", \"little\", \"knew\", \"went\", \"sure\", \"got\", \"door\", \"look\", \"son\", \"know\", \"said\", \"way\", \"come\", \"came\", \"good\", \"place\", \"away\", \"old\", \"water\", \"right\", \"man\", \"let\", \"life\", \"left\", \"house\", \"day\", \"home\", \"systems\", \"marketing\", \"electronic\", \"boats\", \"missiles\", \"components\", \"aircraft\", \"machine\", \"rhode\", \"assessment\", \"shipments\", \"laboratory\", \"bankers\", \"savings\", \"yield\", \"industrial\", \"forests\", \"compared\", \"machines\", \"procurement\", \"missile\", \"conservation\", \"utility\", \"inventories\", \"polaris\", \"manufacturing\", \"machinery\", \"investment\", \"recreation\", \"banks\", \"property\", \"industry\", \"equipment\", \"sales\", \"radiation\", \"planning\", \"development\", \"medical\", \"providence\", \"billion\", \"system\", \"shares\", \"manufacturers\", \"island\", \"1960\", \"production\", \"1959\", \"products\", \"research\", \"co\", \"range\", \"000\", \"program\", \"business\", \"cost\", \"million\", \"available\", \"state\", \"small\", \"company\", \"national\", \"1961\", \"provide\", \"areas\", \"service\", \"use\", \"military\", \"tax\", \"public\", \"khrushchev\", \"player\", \"rayburn\", \"congo\", \"republican\", \"moscow\", \"southern\", \"baseball\", \"railroad\", \"castro\", \"troops\", \"yards\", \"charter\", \"yankees\", \"premier\", \"alexander\", \"democrats\", \"captain\", \"chinese\", \"coach\", \"laos\", \"gen\", \"cuban\", \"opposition\", \"soviet\", \"katanga\", \"republicans\", \"pope\", \"bombs\", \"robinson\", \"berlin\", \"speaker\", \"communist\", \"democratic\", \"eisenhower\", \"league\", \"mayor\", \"cuba\", \"st\", \"police\", \"yesterday\", \"china\", \"west\", \"monday\", \"race\", \"john\", \"east\", \"kennedy\", \"city\", \"mr\", \"meeting\", \"party\", \"president\", \"said\", \"week\", \"war\", \"political\", \"nations\", \"game\", \"committee\", \"leaders\", \"american\", \"world\", \"york\", \"home\", \"county\", \"man\", \"united\", \"people\", \"house\", \"state\", \"day\", \"old\", \"000\", \"government\", \"men\", \"national\", \"states\", \"school\", \"academic\", \"faculty\", \"trustees\", \"campus\", \"recognition\", \"classical\", \"professors\", \"mathematics\", \"musical\", \"tends\", \"feed\", \"stockholders\", \"fulfill\", \"meat\", \"unions\", \"chemical\", \"motors\", \"prosperity\", \"cattle\", \"prestige\", \"designer\", \"curriculum\", \"clerical\", \"catholic\", \"collective\", \"recorded\", \"appearances\", \"creative\", \"membership\", \"trust\", \"music\", \"chamber\", \"students\", \"student\", \"colleges\", \"teachers\", \"college\", \"engineer\", \"interior\", \"university\", \"daily\", \"pool\", \"schools\", \"education\", \"art\", \"general\", \"anti\", \"members\", \"technical\", \"labor\", \"design\", \"administration\", \"level\", \"work\", \"school\", \"president\", \"problem\", \"board\", \"department\", \"american\", \"good\", \"men\", \"aid\", \"world\", \"high\", \"cousin\", \"rehabilitation\", \"coal\", \"vocational\", \"definition\", \"denied\", \"thereof\", \"bonds\", \"payment\", \"rico\", \"puerto\", \"coordination\", \"filing\", \"adopting\", \"recommendation\", \"calendar\", \"hated\", \"proceedings\", \"commodities\", \"sectors\", \"connections\", \"62\", \"vehicles\", \"allocation\", \"treasury\", \"tractor\", \"adjustments\", \"upstairs\", \"shall\", \"assigned\", \"india\", \"exercise\", \"interference\", \"payments\", \"fiscal\", \"authorized\", \"claim\", \"stations\", \"insurance\", \"claims\", \"class\", \"states\", \"income\", \"return\", \"tax\", \"united\", \"junior\", \"hearing\", \"act\", \"countries\", \"cars\", \"state\", \"agreement\", \"department\", \"government\", \"secretary\", \"officer\", \"section\", \"title\", \"federal\", \"use\", \"service\", \"30\", \"board\", \"services\", \"pay\", \"local\", \"day\"], \"Freq\": [328.0, 485.0, 803.0, 307.0, 298.0, 123.0, 199.0, 172.0, 93.0, 107.0, 120.0, 273.0, 167.0, 178.0, 282.0, 122.0, 153.0, 124.0, 117.0, 297.0, 86.0, 147.0, 105.0, 237.0, 97.0, 97.0, 127.0, 230.0, 142.0, 95.0, 35.266031697679495, 35.25985457287083, 32.342823917150476, 32.33880808918395, 34.23407300433101, 31.327619231629434, 26.49851762545449, 25.524771041025016, 23.57323677816412, 25.427138253320564, 21.619428115149056, 30.993044678951417, 19.675700186736574, 51.43981707238504, 20.58973330557005, 17.726312752092976, 23.30504081082281, 16.75197331091849, 17.677966184967982, 15.781789493525482, 15.780666162782095, 15.76503813900025, 14.807347406646532, 14.806857679256781, 14.80652524389838, 14.80556265902143, 15.72134167497508, 14.793031300690533, 34.1487484942612, 27.74245501030447, 57.20416985925254, 90.05985801714509, 78.933877849688, 75.71076669182486, 53.907238782962956, 29.98283937143005, 108.73073941993033, 50.25085074519485, 34.93419186644634, 48.2975237626705, 27.141746207592924, 83.99183249657611, 31.328311483268052, 234.33243224195627, 134.7368238882838, 142.22532063651906, 113.48998687104893, 84.7073928866141, 47.85107317359327, 58.28164360651531, 69.82209572678207, 54.44733492420306, 159.9387345606819, 71.32903793545282, 100.47914727932283, 70.80739412891477, 101.5476355074318, 56.564345442016034, 89.14937958191932, 57.94278765631486, 112.80221967394856, 300.1915799527002, 143.08214720581594, 108.66785528409183, 97.93192846288164, 146.72016490751037, 107.63695959300932, 81.83857826579649, 125.33252753577946, 93.65427756652954, 105.80662989454564, 122.43392673750704, 76.37882747857914, 81.85609009063344, 81.25833894745256, 87.71132897871962, 85.95109916972137, 84.11085690371272, 37.62033917696877, 41.26043043714821, 26.108504126894076, 38.014900667186325, 22.240995977940408, 21.223514374686527, 54.24848359225264, 50.394700061919075, 82.33814930496465, 17.226327234066986, 13.599502717078899, 16.290888590985357, 10.740632157231776, 17.00538725255213, 15.13334249422735, 72.03843499105997, 14.938223060272218, 24.574363297207995, 28.90817387123339, 17.44886776203955, 36.58474259793832, 7.854789008100237, 11.32225811859967, 6.910963131905753, 6.906977941612568, 18.167211407818044, 30.179415379306576, 24.918058009903852, 32.623931200863595, 16.267831354180643, 85.04409531611381, 85.23076408361717, 92.04061867537706, 102.21030740338126, 31.419941862258035, 72.29354736159632, 160.58456695669443, 84.1222111779406, 39.27101304252762, 47.153525908302214, 110.99031567699515, 32.52656888050943, 35.569612133742645, 88.51387155669514, 93.20958887097942, 63.84974612826237, 50.27196273949966, 49.69605754659342, 72.63469421541123, 46.826210408830335, 53.98496787689068, 144.62866634727362, 123.50896845655382, 113.19861054790829, 73.61038906890685, 79.16133829903146, 74.66204969189872, 169.46520342296407, 100.4296096564495, 76.12853270707261, 92.20105914345228, 67.16061893470146, 66.50125650021181, 62.63129522802722, 86.6694706814803, 95.4163128039822, 65.253893525583, 67.84173831149567, 65.61364145319445, 73.42554374783127, 48.67768498296598, 46.70642783836328, 43.733374934891906, 39.778178768084466, 37.800107478394345, 34.82722841019425, 39.618770244775035, 32.8418090484727, 29.881397928372575, 26.912817657012972, 26.89959101139298, 27.860295497571624, 25.92561583302563, 24.93520264611286, 24.92786072259935, 23.94619677327185, 23.93872466553855, 22.949710429481573, 22.940661109611263, 49.61478194372414, 21.955319680146985, 20.974708622899175, 20.95696065584777, 78.92743956978485, 19.982341472209384, 19.972841684788584, 19.967439518925556, 18.996535964167773, 18.99455107756809, 63.224259726459245, 40.66068656369506, 70.96278176057122, 59.00465760184121, 38.646633209979285, 57.99120476200679, 43.2177115015389, 36.74625566194081, 71.47530467432686, 44.37915026504122, 58.029653582730916, 32.82823725515496, 96.08418538831437, 58.46515417030854, 40.50565929609284, 142.9836847835179, 83.8542012142747, 111.14875577393444, 172.62353200026374, 287.8781423603005, 84.13213702614414, 92.01772270153523, 205.40634873734712, 470.89022085822506, 140.76265143255978, 113.01139950261589, 71.05038233620004, 67.16518889885624, 73.87620209973922, 83.76171945290699, 50.00246714063667, 148.6461501680538, 138.13586962558065, 96.83009236355018, 140.02404620727467, 76.83350051553263, 129.58037547484759, 125.6215253615763, 118.36210204722747, 110.56501449328078, 148.84517946191153, 119.6007124364243, 108.7699114008115, 105.30536803757664, 99.52164947706382, 90.46561781119023, 91.57849254494327, 96.15786407278662, 83.8443699495062, 27.81482656930281, 48.936847090043806, 18.50350998538601, 14.87946847708759, 15.473941152164263, 9.373352607053883, 8.429864173735883, 7.546272419664467, 18.414920463159152, 7.518959799427091, 84.4415543610449, 18.268486568333227, 6.622128289059273, 19.54171382466201, 18.587130254335904, 23.146111999202674, 38.251971813159535, 4.773288678682483, 17.381566736920472, 10.238816773832246, 14.802706325018905, 7.011676741661559, 4.663272913791572, 25.479595882436186, 10.01458206085745, 7.582398158918751, 4.540015041328946, 12.853649254073657, 19.425628383036702, 29.706978723475117, 46.82501087835097, 21.450400541392494, 52.994368401959825, 54.9552813736097, 16.311008295186507, 25.62073069822357, 83.62014229714083, 24.94167590234588, 28.633459492336453, 67.01241734256367, 33.331261741900015, 43.6273765441169, 49.32037920830965, 46.41828570416013, 34.85619603196492, 67.66899625922149, 32.10381351159183, 51.62302814445666, 31.177936996002945, 33.895493042175, 35.040820639017554, 44.4932795589264, 35.228834426741734, 56.4886125277832, 47.167119511566604, 55.687789661336666, 39.641505360522565, 42.715660545388545, 38.01482404768388, 43.01510978367278, 42.90256178570274, 38.25715440917922, 34.06878160168612, 37.628796504514284, 34.84607073269743, 24.895381739117948, 17.608710471055932, 22.617152720693422, 12.988354717680922, 12.081651178952178, 17.255761258059277, 11.0439166697325, 28.504391307942157, 36.75187172723354, 17.292619041590704, 17.28997371525974, 6.5862018223720336, 15.531276371536103, 5.669749860722193, 16.06995842193474, 20.125736782358178, 5.626627615289125, 6.416436823858524, 14.343171489794203, 4.761534756745241, 5.547238482984945, 5.5325088337572055, 35.56950814402397, 10.223530392476121, 22.8665669676585, 19.49937341173724, 10.913572827235164, 5.430408333634761, 101.16733937850309, 9.141628146127111, 29.604377811542882, 21.94557072459192, 28.494458626329127, 31.902747941396886, 82.24350507900877, 23.61999226739097, 32.82368814475595, 43.57399739685015, 25.75731022225969, 22.2133581972185, 63.525155444168355, 175.30239292056575, 50.03986268624451, 41.16101243436002, 86.65875331991589, 128.3923792638734, 39.91034171743872, 33.815786827705494, 65.01077528351179, 47.42060534620141, 40.2092795928134, 156.2942625971676, 38.83917469224577, 66.04762002987032, 93.49618556474535, 54.83909075025125, 32.9837878963213, 41.664568001741564, 29.9899704079096, 43.23305137556804, 57.37752089386149, 52.7011491466466, 42.22418118531025, 42.52715360132971, 36.82910800278605, 37.09681062937578, 36.7444212874191, 37.17615767602762], \"Total\": [328.0, 485.0, 803.0, 307.0, 298.0, 123.0, 199.0, 172.0, 93.0, 107.0, 120.0, 273.0, 167.0, 178.0, 282.0, 122.0, 153.0, 124.0, 117.0, 297.0, 86.0, 147.0, 105.0, 237.0, 97.0, 97.0, 127.0, 230.0, 142.0, 95.0, 36.02603912499984, 36.025888838190326, 33.10322172299763, 33.103199451516204, 35.0505625594861, 32.1285378748327, 27.257595896582217, 26.283381057698204, 24.334723323645928, 26.284575607309357, 22.386171312703556, 32.13491772930471, 20.437642353730425, 53.48541765786135, 21.413009212119373, 18.48897769781579, 24.319878358135632, 17.51484102850204, 18.489977886518645, 16.540707205667307, 16.540683839194845, 16.540152118252482, 15.56643207582317, 15.566368553159572, 15.56643938589409, 15.566408536159058, 16.541123102771508, 15.566128130021552, 35.961890577969235, 29.216873363902348, 60.42030248595257, 97.50813665440421, 85.71452146351672, 82.7655748288131, 58.48806964583603, 32.15043643449321, 124.77305109139071, 55.4959340702759, 37.89639184076528, 53.44875378566885, 29.186855354435654, 98.42108266493295, 34.10865925517125, 307.9971583578141, 167.83422712513698, 178.18542278378118, 139.82171036116077, 103.4267444219059, 54.56223811623198, 68.76954856434932, 84.83647160041038, 64.2620139704154, 237.75277971425635, 90.51973633420369, 137.70593095628732, 91.77444009129962, 147.79376856176165, 70.06214294099412, 129.8665751690667, 73.99592681862173, 191.48072080434133, 803.8548070648295, 274.8542726057725, 186.0737233498349, 163.15899799670473, 306.4340359076893, 190.15544412730645, 123.89985251249689, 254.8494682894125, 162.7169852126024, 213.5733828440322, 283.0153604519205, 121.9563692552673, 161.53017716157905, 163.20991301290175, 234.12184367687408, 302.3464743334504, 268.51376419796026, 38.38900181276882, 42.21975114655715, 26.87023951148847, 39.32530511253745, 23.03135590818634, 22.069023878838735, 56.676640666140905, 52.8354118582513, 86.46800449904782, 18.22147763216327, 14.390064081926608, 17.262361508112317, 11.511442662430955, 18.237457198455754, 16.292903446551133, 78.46760127905365, 16.284197226960202, 26.802268957257574, 31.64526338081064, 19.147274411366563, 40.18955772227329, 8.631750433563735, 12.458169098970636, 7.6718366477172015, 7.671950307157873, 20.188446423100263, 33.58228715547514, 27.758165731678783, 36.44648449277571, 18.17983889287438, 95.59958109020081, 96.93212392160395, 105.65758026062848, 117.78573708942221, 35.5594434894225, 85.01192732215917, 199.00113683933094, 101.02292341395624, 45.143814883594324, 54.90118963074974, 142.66262791524008, 37.27576952579075, 41.990975863697194, 120.33277045687883, 129.77818451581413, 84.83256378608141, 63.72708403807197, 62.84418723668013, 102.98876739202461, 59.70895018137994, 72.90815716855994, 282.9442741244361, 230.32157269786688, 209.32374748162175, 115.94033775080972, 128.9930469541294, 119.71572579817428, 485.52547392811994, 211.3753924823505, 138.53740854960475, 215.73422314818583, 114.91801537520546, 112.9357554678229, 99.90679935398614, 203.5790903421851, 253.4486972460467, 123.30539886857126, 172.8096418311657, 200.80538207395293, 74.1813261160513, 49.44169052826696, 47.46260119923946, 44.49359036010498, 40.535513996171375, 38.55638985076479, 35.5875278284355, 40.52408901130407, 33.60786999510346, 30.639652232810246, 27.670894341231328, 27.670809878218456, 28.65913593377032, 26.681481371686967, 25.691806203590644, 25.691678325478705, 24.70228207475658, 24.702154272987812, 23.712487033002052, 23.711939322752983, 51.34436129166912, 22.722416271833254, 21.733411082028496, 21.732251919217546, 81.93116365784138, 20.743599793201984, 20.7429113776574, 20.743329613458663, 19.754257834892872, 19.75431277254959, 66.10674015267467, 42.43698376216303, 74.99667222533031, 62.130383241294666, 40.45277924173406, 61.207324272859466, 45.37927277280931, 38.47958552212631, 78.0399664895098, 47.29725623534734, 63.027230870364654, 34.528652937106536, 108.3411986273915, 64.00922906655562, 43.34070314169641, 171.40817645781527, 96.5076636516503, 132.04188079153846, 217.90548917781655, 392.85663935368365, 99.3819134748067, 110.41190710132193, 297.089385911943, 803.8548070648295, 190.95279899715123, 148.12895827305644, 84.3318674127212, 80.65436811910894, 91.54281280787272, 111.05863796939244, 55.26520309710713, 262.8761488078903, 256.08998245885533, 148.46972078147334, 268.51376419796026, 105.84498183835272, 283.0153604519205, 298.7240339741693, 265.61772341053467, 234.12184367687408, 485.52547392811994, 302.3464743334504, 254.8494682894125, 282.9442741244361, 273.1049196397214, 193.49518722056058, 215.73422314818583, 328.0876630034328, 171.6826664515605, 28.58767119100292, 50.75235104005474, 19.380805810594012, 15.693304333758912, 16.63341486307523, 10.165631588135199, 9.245712123820638, 8.322226888959065, 20.34853979312966, 8.322341294361468, 93.52912134200913, 20.3506735282783, 7.401195317063846, 22.202972880525152, 21.263556998272605, 26.8641766143078, 44.4668507347347, 5.559156794388779, 20.429848324794346, 12.080566726948916, 17.61616608544223, 8.344571664079332, 5.5636145258569005, 30.740062340111145, 12.097121988775985, 9.309062259927522, 5.575810965371225, 15.790102910241039, 24.23635962717949, 37.140658075135605, 59.64261324812855, 27.08108297787439, 68.97438698866307, 71.68275492289169, 20.467141713564455, 33.3476013502525, 120.99975166695656, 32.580289308120776, 39.896080519574916, 122.31078776847802, 52.49852760150621, 75.23212830270086, 89.45812584148688, 84.56146294600379, 57.49325835273579, 198.00621277778873, 57.79720640203345, 140.21994582812476, 57.24356765830156, 68.34216300022536, 74.72871037779433, 131.4090715711945, 82.9849645023584, 256.97786239275575, 171.6826664515605, 297.089385911943, 117.36282478725467, 173.02514764709474, 153.03062002567157, 262.8761488078903, 306.4340359076893, 193.49518722056058, 99.64739691842246, 256.08998245885533, 217.96093203160197, 25.719900356958128, 18.37920616005879, 23.8849950962222, 13.795801363596581, 12.877393873437697, 18.39587213444215, 11.965555537317119, 31.30178852783009, 40.525553449448196, 19.30574761946478, 19.305381735641987, 7.373665018594348, 17.516110794478646, 6.456504867903868, 18.38654313683199, 23.07591468933514, 6.459370956327413, 7.374057915469397, 16.593451639249754, 5.5388189951715745, 6.462219526241357, 6.457204216744045, 41.582448440815774, 11.96305297031633, 26.870254060738816, 23.091351462145596, 12.93156093520786, 6.471692815484671, 123.04949327572984, 11.12909382613574, 36.087265967704205, 26.77461259555282, 35.191972553443726, 39.7915481853533, 107.51555928474959, 29.57370429691558, 42.54665994150672, 57.808559354593974, 33.29164203718922, 28.658975142612604, 97.16968285832576, 328.0876630034328, 79.94285226747931, 64.5651679999191, 172.8096418311657, 298.7240339741693, 62.7907654919127, 50.551680739664874, 127.86759220361672, 82.87435176840475, 65.8464797371971, 485.52547392811994, 64.8787473979784, 153.03062002567157, 273.1049196397214, 119.84296064796646, 52.256274530524976, 81.49566812100721, 44.58064300425606, 112.63804601931177, 253.4486972460467, 203.5790903421851, 114.38793137157595, 173.02514764709474, 93.3865762453041, 103.89058589990495, 128.421143728321, 302.3464743334504], \"Category\": [\"Default\", \"Default\", \"Default\", \"Default\", \"Default\", \"Default\", \"Default\", \"Default\", \"Default\", \"Default\", \"Default\", \"Default\", \"Default\", \"Default\", \"Default\", \"Default\", \"Default\", \"Default\", \"Default\", \"Default\", \"Default\", \"Default\", \"Default\", \"Default\", \"Default\", \"Default\", \"Default\", \"Default\", \"Default\", \"Default\", \"Topic1\", \"Topic1\", \"Topic1\", \"Topic1\", \"Topic1\", \"Topic1\", \"Topic1\", \"Topic1\", \"Topic1\", \"Topic1\", \"Topic1\", \"Topic1\", \"Topic1\", \"Topic1\", \"Topic1\", \"Topic1\", \"Topic1\", \"Topic1\", \"Topic1\", \"Topic1\", \"Topic1\", \"Topic1\", \"Topic1\", \"Topic1\", \"Topic1\", \"Topic1\", \"Topic1\", \"Topic1\", \"Topic1\", \"Topic1\", \"Topic1\", \"Topic1\", \"Topic1\", \"Topic1\", \"Topic1\", \"Topic1\", \"Topic1\", \"Topic1\", \"Topic1\", \"Topic1\", \"Topic1\", \"Topic1\", \"Topic1\", \"Topic1\", \"Topic1\", \"Topic1\", \"Topic1\", \"Topic1\", \"Topic1\", \"Topic1\", \"Topic1\", \"Topic1\", \"Topic1\", \"Topic1\", \"Topic1\", \"Topic1\", \"Topic1\", \"Topic1\", \"Topic1\", \"Topic1\", \"Topic1\", \"Topic1\", \"Topic1\", \"Topic1\", \"Topic1\", \"Topic1\", \"Topic1\", \"Topic1\", \"Topic1\", \"Topic1\", \"Topic1\", \"Topic1\", \"Topic1\", \"Topic1\", \"Topic1\", \"Topic1\", \"Topic1\", \"Topic1\", \"Topic2\", \"Topic2\", \"Topic2\", \"Topic2\", \"Topic2\", \"Topic2\", \"Topic2\", \"Topic2\", \"Topic2\", \"Topic2\", \"Topic2\", \"Topic2\", \"Topic2\", \"Topic2\", \"Topic2\", \"Topic2\", \"Topic2\", \"Topic2\", \"Topic2\", \"Topic2\", \"Topic2\", \"Topic2\", \"Topic2\", \"Topic2\", \"Topic2\", \"Topic2\", \"Topic2\", \"Topic2\", \"Topic2\", \"Topic2\", \"Topic2\", \"Topic2\", \"Topic2\", \"Topic2\", \"Topic2\", \"Topic2\", \"Topic2\", \"Topic2\", \"Topic2\", \"Topic2\", \"Topic2\", \"Topic2\", \"Topic2\", \"Topic2\", \"Topic2\", \"Topic2\", \"Topic2\", \"Topic2\", \"Topic2\", \"Topic2\", \"Topic2\", \"Topic2\", \"Topic2\", \"Topic2\", \"Topic2\", \"Topic2\", \"Topic2\", \"Topic2\", \"Topic2\", \"Topic2\", \"Topic2\", \"Topic2\", \"Topic2\", \"Topic2\", \"Topic2\", \"Topic2\", \"Topic2\", \"Topic2\", \"Topic2\", \"Topic3\", \"Topic3\", \"Topic3\", \"Topic3\", \"Topic3\", \"Topic3\", \"Topic3\", \"Topic3\", \"Topic3\", \"Topic3\", \"Topic3\", \"Topic3\", \"Topic3\", \"Topic3\", \"Topic3\", \"Topic3\", \"Topic3\", \"Topic3\", \"Topic3\", \"Topic3\", \"Topic3\", \"Topic3\", \"Topic3\", \"Topic3\", \"Topic3\", \"Topic3\", \"Topic3\", \"Topic3\", \"Topic3\", \"Topic3\", \"Topic3\", \"Topic3\", \"Topic3\", \"Topic3\", \"Topic3\", \"Topic3\", \"Topic3\", \"Topic3\", \"Topic3\", \"Topic3\", \"Topic3\", \"Topic3\", \"Topic3\", \"Topic3\", \"Topic3\", \"Topic3\", \"Topic3\", \"Topic3\", \"Topic3\", \"Topic3\", \"Topic3\", \"Topic3\", \"Topic3\", \"Topic3\", \"Topic3\", \"Topic3\", \"Topic3\", \"Topic3\", \"Topic3\", \"Topic3\", \"Topic3\", \"Topic3\", \"Topic3\", \"Topic3\", \"Topic3\", \"Topic3\", \"Topic3\", \"Topic3\", \"Topic3\", \"Topic3\", \"Topic3\", \"Topic3\", \"Topic3\", \"Topic3\", \"Topic3\", \"Topic3\", \"Topic3\", \"Topic3\", \"Topic3\", \"Topic4\", \"Topic4\", \"Topic4\", \"Topic4\", \"Topic4\", \"Topic4\", \"Topic4\", \"Topic4\", \"Topic4\", \"Topic4\", \"Topic4\", \"Topic4\", \"Topic4\", \"Topic4\", \"Topic4\", \"Topic4\", \"Topic4\", \"Topic4\", \"Topic4\", \"Topic4\", \"Topic4\", \"Topic4\", \"Topic4\", \"Topic4\", \"Topic4\", \"Topic4\", \"Topic4\", \"Topic4\", \"Topic4\", \"Topic4\", \"Topic4\", \"Topic4\", \"Topic4\", \"Topic4\", \"Topic4\", \"Topic4\", \"Topic4\", \"Topic4\", \"Topic4\", \"Topic4\", \"Topic4\", \"Topic4\", \"Topic4\", \"Topic4\", \"Topic4\", \"Topic4\", \"Topic4\", \"Topic4\", \"Topic4\", \"Topic4\", \"Topic4\", \"Topic4\", \"Topic4\", \"Topic4\", \"Topic4\", \"Topic4\", \"Topic4\", \"Topic4\", \"Topic4\", \"Topic4\", \"Topic4\", \"Topic4\", \"Topic4\", \"Topic4\", \"Topic4\", \"Topic5\", \"Topic5\", \"Topic5\", \"Topic5\", \"Topic5\", \"Topic5\", \"Topic5\", \"Topic5\", \"Topic5\", \"Topic5\", \"Topic5\", \"Topic5\", \"Topic5\", \"Topic5\", \"Topic5\", \"Topic5\", \"Topic5\", \"Topic5\", \"Topic5\", \"Topic5\", \"Topic5\", \"Topic5\", \"Topic5\", \"Topic5\", \"Topic5\", \"Topic5\", \"Topic5\", \"Topic5\", \"Topic5\", \"Topic5\", \"Topic5\", \"Topic5\", \"Topic5\", \"Topic5\", \"Topic5\", \"Topic5\", \"Topic5\", \"Topic5\", \"Topic5\", \"Topic5\", \"Topic5\", \"Topic5\", \"Topic5\", \"Topic5\", \"Topic5\", \"Topic5\", \"Topic5\", \"Topic5\", \"Topic5\", \"Topic5\", \"Topic5\", \"Topic5\", \"Topic5\", \"Topic5\", \"Topic5\", \"Topic5\", \"Topic5\", \"Topic5\", \"Topic5\", \"Topic5\", \"Topic5\", \"Topic5\", \"Topic5\", \"Topic5\", \"Topic5\", \"Topic5\", \"Topic5\", \"Topic5\"], \"logprob\": [30.0, 29.0, 28.0, 27.0, 26.0, 25.0, 24.0, 23.0, 22.0, 21.0, 20.0, 19.0, 18.0, 17.0, 16.0, 15.0, 14.0, 13.0, 12.0, 11.0, 10.0, 9.0, 8.0, 7.0, 6.0, 5.0, 4.0, 3.0, 2.0, 1.0, -6.6963, -6.6965, -6.7828, -6.7829, -6.726, -6.8147, -6.9821, -7.0195, -7.0991, -7.0234, -7.1856, -6.8254, -7.2798, -6.3188, -7.2344, -7.3841, -7.1105, -7.4407, -7.3869, -7.5003, -7.5004, -7.5014, -7.5641, -7.5641, -7.5641, -7.5642, -7.5042, -7.565, -6.7285, -6.9362, -6.2126, -5.7587, -5.8906, -5.9323, -6.2719, -6.8586, -5.5703, -6.3422, -6.7057, -6.3818, -6.9581, -5.8285, -6.8147, -4.8025, -5.3559, -5.3018, -5.5275, -5.82, -6.3911, -6.1939, -6.0132, -6.262, -5.1844, -5.9919, -5.6492, -5.9992, -5.6387, -6.2238, -5.7689, -6.1997, -5.5336, -4.5548, -5.2958, -5.5709, -5.6749, -5.2707, -5.5804, -5.8544, -5.4282, -5.7196, -5.5976, -5.4516, -5.9235, -5.8542, -5.8616, -5.7851, -5.8054, -5.8271, -6.5177, -6.4254, -6.883, -6.5073, -7.0434, -7.0902, -6.1517, -6.2254, -5.7345, -7.2989, -7.5353, -7.3547, -7.7713, -7.3118, -7.4284, -5.8681, -7.4414, -6.9436, -6.7812, -7.286, -6.5457, -8.0842, -7.7185, -8.2122, -8.2128, -7.2457, -6.7381, -6.9297, -6.6602, -7.3561, -5.7021, -5.6999, -5.6231, -5.5183, -6.6978, -5.8646, -5.0665, -5.713, -6.4748, -6.2919, -5.4358, -6.6632, -6.5738, -5.6621, -5.6104, -5.9888, -6.2278, -6.2394, -5.8598, -6.2988, -6.1566, -5.1711, -5.329, -5.4161, -5.8465, -5.7738, -5.8323, -5.0126, -5.5358, -5.8129, -5.6213, -5.9382, -5.9481, -6.008, -5.6832, -5.587, -5.967, -5.9281, -5.9615, -6.2979, -6.7089, -6.7502, -6.816, -6.9108, -6.9618, -7.0437, -6.9148, -7.1024, -7.1969, -7.3015, -7.302, -7.2669, -7.3389, -7.3778, -7.3781, -7.4183, -7.4186, -7.4608, -7.4612, -6.6898, -7.5051, -7.5508, -7.5517, -6.2256, -7.5993, -7.5997, -7.6, -7.6499, -7.65, -6.4474, -6.8889, -6.332, -6.5165, -6.9397, -6.5338, -6.8279, -6.9901, -6.3248, -6.8014, -6.5332, -7.1028, -6.0289, -6.5257, -6.8927, -5.6314, -6.165, -5.8833, -5.443, -4.9316, -6.1617, -6.0721, -5.2691, -4.4395, -5.647, -5.8666, -6.3307, -6.387, -6.2917, -6.1661, -6.6821, -5.5926, -5.6659, -6.0212, -5.6523, -6.2525, -5.7298, -5.7608, -5.8204, -5.8885, -5.5912, -5.81, -5.9049, -5.9373, -5.9937, -6.0892, -6.0769, -6.0281, -6.1652, -6.3178, -5.7528, -6.7254, -6.9434, -6.9042, -7.4055, -7.5116, -7.6223, -6.7302, -7.6259, -5.2073, -6.7382, -7.753, -6.6708, -6.7209, -6.5015, -5.9992, -8.0803, -6.788, -7.3172, -6.9486, -7.6958, -8.1037, -6.4055, -7.3393, -7.6175, -8.1304, -7.0897, -6.6768, -6.252, -5.797, -6.5776, -5.6732, -5.6369, -6.8515, -6.4, -5.2171, -6.4268, -6.2888, -5.4385, -6.1369, -5.8677, -5.745, -5.8057, -6.0921, -5.4287, -6.1744, -5.6994, -6.2037, -6.1201, -6.0869, -5.848, -6.0815, -5.6093, -5.7897, -5.6236, -5.9635, -5.8888, -6.0054, -5.8818, -5.8844, -5.999, -6.115, -6.0156, -6.0924, -6.4228, -6.7691, -6.5188, -7.0734, -7.1458, -6.7893, -7.2356, -6.2874, -6.0333, -6.7872, -6.7873, -7.7525, -6.8946, -7.9023, -6.8605, -6.6355, -7.91, -7.7786, -6.9742, -8.0769, -7.9242, -7.9268, -6.066, -7.3128, -6.5078, -6.6671, -7.2475, -7.9454, -5.0207, -7.4246, -6.2495, -6.5489, -6.2878, -6.1748, -5.2278, -6.4754, -6.1463, -5.863, -6.3887, -6.5368, -5.486, -4.471, -5.7246, -5.92, -5.1755, -4.7824, -5.9508, -6.1165, -5.4629, -5.7784, -5.9434, -4.5857, -5.978, -5.4471, -5.0995, -5.6331, -6.1414, -5.9078, -6.2366, -5.8709, -5.5878, -5.6728, -5.8945, -5.8873, -6.0312, -6.0239, -6.0335, -6.0218], \"loglift\": [30.0, 29.0, 28.0, 27.0, 26.0, 25.0, 24.0, 23.0, 22.0, 21.0, 20.0, 19.0, 18.0, 17.0, 16.0, 15.0, 14.0, 13.0, 12.0, 11.0, 10.0, 9.0, 8.0, 7.0, 6.0, 5.0, 4.0, 3.0, 2.0, 1.0, 1.4528, 1.4527, 1.4509, 1.4508, 1.4506, 1.4489, 1.4459, 1.4449, 1.4424, 1.441, 1.4393, 1.438, 1.4362, 1.4352, 1.435, 1.432, 1.4315, 1.4296, 1.4293, 1.4272, 1.4271, 1.4262, 1.4242, 1.4241, 1.4241, 1.4241, 1.4233, 1.4232, 1.4224, 1.4224, 1.4195, 1.3947, 1.3918, 1.3851, 1.3926, 1.4044, 1.3365, 1.3749, 1.3928, 1.3728, 1.4015, 1.3156, 1.3891, 1.2008, 1.2545, 1.2488, 1.2655, 1.2745, 1.3429, 1.3087, 1.2794, 1.3084, 1.0777, 1.2359, 1.159, 1.2148, 1.0989, 1.2602, 1.098, 1.2296, 0.945, 0.4892, 0.8213, 0.9363, 0.9637, 0.7377, 0.9051, 1.0594, 0.7645, 0.9218, 0.7718, 0.6362, 1.0062, 0.7944, 0.7768, 0.4924, 0.2164, 0.3134, 1.5678, 1.5651, 1.5593, 1.5542, 1.5532, 1.549, 1.5443, 1.5408, 1.5391, 1.5319, 1.5316, 1.5301, 1.5188, 1.5181, 1.5142, 1.5026, 1.5018, 1.5013, 1.4976, 1.4952, 1.4941, 1.4937, 1.4925, 1.4836, 1.483, 1.4826, 1.4812, 1.4801, 1.4773, 1.4769, 1.4711, 1.4594, 1.4501, 1.4462, 1.4643, 1.426, 1.3736, 1.405, 1.4487, 1.4359, 1.337, 1.4518, 1.4221, 1.281, 1.2571, 1.3039, 1.3509, 1.3533, 1.2389, 1.345, 1.2876, 0.917, 0.9649, 0.9733, 1.1338, 1.0998, 1.1159, 0.5355, 0.8439, 0.9894, 0.738, 1.0509, 1.0585, 1.1211, 0.7341, 0.6112, 0.9517, 0.6531, 0.4695, 1.129, 1.1237, 1.1232, 1.122, 1.1204, 1.1194, 1.1176, 1.1166, 1.1162, 1.1142, 1.1115, 1.111, 1.111, 1.1105, 1.1093, 1.1091, 1.1082, 1.1078, 1.1065, 1.1062, 1.105, 1.1049, 1.1037, 1.1029, 1.1019, 1.1018, 1.1014, 1.1011, 1.1001, 1.1, 1.0947, 1.0965, 1.084, 1.0876, 1.0936, 1.0853, 1.0904, 1.0931, 1.0514, 1.0756, 1.0566, 1.0887, 1.0192, 1.0486, 1.0716, 0.9579, 0.9987, 0.967, 0.9063, 0.8283, 0.9727, 0.957, 0.7702, 0.6044, 0.8343, 0.8686, 0.9679, 0.9562, 0.9248, 0.8572, 1.0392, 0.5691, 0.5219, 0.7118, 0.4882, 0.8189, 0.358, 0.273, 0.3309, 0.389, -0.0431, 0.2118, 0.2878, 0.1509, 0.1298, 0.379, 0.2824, -0.0881, 0.4226, 2.0626, 2.0536, 2.0437, 2.0367, 2.0177, 2.0088, 1.9976, 1.9921, 1.9901, 1.9885, 1.9878, 1.9821, 1.9788, 1.9623, 1.9555, 1.941, 1.9394, 1.9376, 1.9284, 1.9246, 1.916, 1.916, 1.9135, 1.9023, 1.9011, 1.8848, 1.8845, 1.8842, 1.8687, 1.8667, 1.848, 1.8569, 1.8264, 1.8243, 1.863, 1.8264, 1.7205, 1.8228, 1.7583, 1.4883, 1.6357, 1.5451, 1.4946, 1.4902, 1.5896, 1.0163, 1.502, 1.0907, 1.4824, 1.3887, 1.3326, 1.007, 1.2332, 0.575, 0.798, 0.4157, 1.0046, 0.6911, 0.6973, 0.2799, 0.1239, 0.4691, 1.0167, 0.1722, 0.2566, 2.0633, 2.0531, 2.0414, 2.0356, 2.0321, 2.0319, 2.0157, 2.0023, 1.9982, 1.9858, 1.9856, 1.983, 1.9756, 1.966, 1.9612, 1.9591, 1.9579, 1.9568, 1.9502, 1.9447, 1.9432, 1.9413, 1.9397, 1.9388, 1.9346, 1.9268, 1.9262, 1.9205, 1.9001, 1.8992, 1.8979, 1.897, 1.8848, 1.8749, 1.8279, 1.8711, 1.8364, 1.8132, 1.8393, 1.8411, 1.6709, 1.4691, 1.6274, 1.6457, 1.4057, 1.2515, 1.6427, 1.6938, 1.4195, 1.5376, 1.6027, 0.9624, 1.5828, 1.2556, 1.024, 1.3141, 1.6358, 1.425, 1.6995, 1.1383, 0.6104, 0.7445, 1.0993, 0.6926, 1.1654, 1.0661, 0.8446, -0.0]}, \"token.table\": {\"Topic\": [1, 2, 3, 4, 5, 2, 3, 2, 3, 5, 1, 2, 3, 4, 5, 1, 2, 3, 4, 5, 5, 4, 1, 2, 3, 4, 5, 2, 5, 2, 3, 4, 5, 5, 2, 3, 5, 1, 2, 3, 4, 5, 2, 3, 3, 4, 5, 1, 2, 3, 4, 5, 1, 3, 4, 5, 4, 1, 2, 3, 4, 5, 1, 2, 3, 4, 2, 3, 5, 2, 4, 5, 1, 2, 4, 5, 1, 3, 4, 5, 1, 2, 2, 5, 3, 1, 5, 3, 4, 2, 3, 1, 3, 4, 1, 2, 3, 4, 5, 2, 5, 3, 2, 5, 1, 1, 2, 3, 4, 5, 1, 2, 5, 1, 2, 3, 5, 4, 3, 2, 3, 5, 3, 3, 4, 1, 3, 4, 3, 4, 3, 2, 4, 3, 4, 3, 1, 2, 3, 5, 2, 3, 4, 5, 2, 3, 4, 5, 1, 3, 4, 5, 4, 1, 2, 3, 4, 1, 1, 1, 2, 3, 4, 3, 4, 5, 1, 3, 4, 1, 2, 3, 4, 1, 2, 3, 4, 1, 1, 2, 1, 2, 3, 4, 5, 2, 3, 4, 2, 4, 5, 2, 3, 5, 2, 3, 4, 5, 2, 5, 2, 3, 5, 2, 5, 1, 2, 3, 4, 5, 1, 5, 2, 3, 4, 5, 2, 3, 4, 5, 5, 2, 3, 4, 3, 5, 3, 2, 4, 1, 2, 3, 4, 5, 1, 2, 3, 4, 5, 5, 3, 4, 3, 2, 5, 2, 3, 4, 5, 1, 2, 4, 2, 4, 1, 2, 4, 5, 1, 3, 4, 1, 2, 3, 4, 5, 1, 3, 4, 1, 3, 1, 1, 2, 3, 5, 1, 2, 3, 4, 5, 3, 5, 2, 1, 2, 4, 1, 1, 2, 4, 1, 4, 5, 1, 3, 4, 1, 4, 2, 3, 4, 5, 1, 2, 3, 4, 1, 2, 5, 1, 2, 5, 1, 2, 5, 1, 4, 1, 2, 3, 4, 3, 1, 2, 3, 4, 5, 1, 2, 3, 4, 5, 1, 3, 2, 3, 4, 5, 1, 3, 1, 3, 1, 1, 1, 5, 3, 4, 5, 1, 1, 2, 3, 4, 5, 1, 2, 3, 4, 5, 1, 2, 3, 4, 5, 1, 2, 3, 4, 1, 2, 4, 5, 2, 3, 4, 5, 2, 4, 2, 3, 4, 5, 2, 3, 4, 5, 2, 3, 4, 5, 2, 3, 4, 5, 2, 2, 4, 1, 2, 3, 4, 5, 1, 2, 3, 4, 5, 1, 3, 4, 5, 3, 2, 3, 4, 5, 3, 1, 3, 4, 5, 1, 2, 3, 4, 5, 2, 3, 4, 5, 2, 3, 5, 1, 2, 3, 1, 3, 4, 1, 3, 4, 5, 1, 2, 3, 4, 5, 1, 2, 3, 4, 5, 1, 2, 3, 4, 5, 1, 1, 2, 3, 4, 5, 1, 3, 4, 5, 1, 2, 3, 4, 5, 1, 2, 3, 4, 5, 1, 2, 3, 5, 2, 3, 2, 3, 5, 1, 2, 4, 1, 2, 3, 4, 5, 2, 4, 2, 3, 2, 4, 3, 4, 3, 4, 5, 2, 4, 5, 1, 2, 3, 4, 1, 2, 3, 4, 2, 3, 4, 1, 2, 3, 4, 5, 2, 3, 5, 1, 2, 3, 4, 5, 2, 4, 2, 1, 3, 4, 5, 3, 1, 3, 2, 4, 1, 2, 3, 4, 5, 1, 3, 1, 4, 2, 4, 1, 2, 3, 4, 5, 2, 3, 4, 5, 2, 3, 4, 5, 1, 2, 3, 4, 5, 3, 1, 1, 3, 4, 1, 2, 3, 4, 5, 2, 5, 2, 5, 1, 2, 3, 4, 5, 1, 2, 3, 4, 1, 1, 2, 3, 4, 5, 1, 2, 4, 5, 3, 2, 3, 4, 5, 2, 3, 4, 5, 1, 2, 4, 5, 3, 3, 1, 2, 3, 4, 5, 3, 4, 2, 3, 4, 5, 5, 2, 5, 1, 2, 3, 4, 5, 1, 2, 4, 5, 4, 2, 3, 4, 5, 1, 2, 4, 5, 4, 1, 2, 3, 4, 5, 2, 3, 4, 2, 3, 4, 5, 4, 5, 3, 5, 1, 2, 3, 1, 2, 3, 4, 5, 3, 1, 4, 4, 5, 3, 4, 1, 2, 5, 5, 3, 3, 1, 2, 3, 4, 5, 1, 3, 4, 5, 2, 3, 4, 5, 1, 2, 3, 4, 5, 3, 1, 3, 5, 1, 2, 3, 4, 5, 2, 3, 4, 5, 1, 3, 4, 1, 2, 1, 2, 3, 4, 5, 1, 2, 3, 4, 5, 2, 3, 4, 5, 1, 2, 4, 5, 5, 1, 2, 3, 4, 5, 2, 3, 4, 5, 1, 2, 3, 4, 5, 2, 3, 5, 1, 3, 2, 1, 2, 3, 4, 5, 1, 3, 4, 5, 3, 3, 4, 3, 4, 5, 1, 3, 1, 1, 2, 3, 4, 5, 2, 3, 4, 5, 2, 3, 5, 2, 4, 1, 2, 3, 4, 5, 1, 2, 3, 4, 5, 1, 1, 3, 5, 1, 3, 4, 5, 1, 1, 2, 3, 4, 5, 2, 2, 4, 5, 3, 4, 5, 2, 4, 4, 5, 1, 2, 3, 4, 5, 1, 3, 4, 5, 2, 5, 3, 5, 1, 3, 3, 2, 3, 4, 5, 4, 2, 4, 5, 2, 3, 4, 5, 1, 2, 3, 4, 5, 1, 2, 3, 4, 5, 2, 4, 1, 2, 3, 5, 2, 3, 5, 5, 1, 1, 2, 3, 4, 5, 1, 3, 1, 2, 4, 5, 1, 2, 3, 4, 5, 1, 2, 3, 4, 5, 1, 3, 4, 2, 3, 5, 1, 1, 3, 4, 1, 2, 3, 4, 5, 1, 2, 3, 4, 5, 3, 3, 1, 1, 3, 4, 2, 5, 1, 2, 3, 4, 5], \"Freq\": [0.003534264840999079, 0.5124684019448664, 0.3710978083049033, 0.021205589045994473, 0.09542515070697513, 0.7845957610445331, 0.20399489787157862, 0.7166073431137224, 0.19263638255745227, 0.09246546362757709, 0.008701855812032746, 0.5830243394061939, 0.21754639530081862, 0.052211134872196474, 0.14793154880455667, 0.017484361995350993, 0.17484361995350992, 0.3933981448953973, 0.04371090498837748, 0.36717160190237086, 0.9291947100637644, 0.9794431946877901, 0.015641179798046047, 0.21897651717264466, 0.08602648888925325, 0.17987356767752952, 0.5083383434364965, 0.07733018504188227, 0.850632035460705, 0.28156351428108395, 0.3120028131222822, 0.33483228725318087, 0.06848842239269609, 0.9292953575899535, 0.1541336786090848, 0.2312005179136272, 0.6011213465754307, 0.01003538507702978, 0.37130924785010183, 0.20070770154059558, 0.3412030926190125, 0.07024769553920845, 0.9527734771383521, 0.03528790656067971, 0.9730777290328767, 0.08359070234674032, 0.8359070234674032, 0.03804072771664041, 0.15216291086656164, 0.566806842977942, 0.16357512918155376, 0.0836896009766089, 0.9700272268753707, 0.3979431088764664, 0.5536599775672576, 0.0346037485979536, 0.8967305439608122, 0.060055972554390595, 0.6305877118211013, 0.18016791766317178, 0.060055972554390595, 0.060055972554390595, 0.20872012378176483, 0.05218003094544121, 0.13914674918784323, 0.6087670276968141, 0.9329649517552185, 0.08985457536997164, 0.8086911783297448, 0.13525529165506617, 0.03381382291376654, 0.811531749930397, 0.10859057916849096, 0.6264841105874479, 0.10859057916849096, 0.1587093080154868, 0.6618248394745203, 0.2905572465985699, 0.024213103883214158, 0.03228413851095221, 0.9715235662110077, 0.9555709325556463, 0.880095808014626, 0.05500598800091412, 0.9870672228767962, 0.945445288152589, 0.02780721435742909, 0.9530041846640811, 0.030254101100447017, 0.8560834531293227, 0.12750179089160124, 0.840309798333744, 0.108929047932152, 0.031122585123472, 0.13292865408738863, 0.03467704019671008, 0.3409908952676491, 0.2485187880764222, 0.2485187880764222, 0.9662989235876285, 0.025428919041779696, 0.961817961413838, 0.06389411257512717, 0.926464632339344, 0.9735003530276856, 0.10987764301333923, 0.5398336374133623, 0.12898679832000692, 0.1480959536266746, 0.07165933240000384, 0.04333522694388206, 0.04333522694388206, 0.8667045388776412, 0.6006410998060878, 0.09193486221521752, 0.3003205499030439, 0.006128990814347835, 0.9558216473080499, 0.9715751806410007, 0.12149472579140398, 0.27336313303065896, 0.6074736289570198, 0.9791233846928171, 0.1626541919362263, 0.8132709596811315, 0.09789597887384867, 0.048947989436924334, 0.8321158204277137, 0.1846307255911836, 0.7754490474829712, 0.9770008441533776, 0.11167288106653551, 0.856158754843439, 0.9557279880019949, 0.02896145418187863, 0.9699530870797971, 0.06424803731573571, 0.08719376492849845, 0.7939221754015912, 0.055069746270630604, 0.09401443040415423, 0.04700721520207712, 0.07051082280311567, 0.7756190508342724, 0.10467924917312708, 0.03489308305770902, 0.06978616611541805, 0.7676478272695986, 0.15436913612108966, 0.12349530889687171, 0.07203893018984184, 0.6586416474499824, 0.8853360385895094, 0.918256173018715, 0.04832927226414289, 0.024164636132071444, 0.8986963379224959, 0.9636119521118189, 0.9666732823702414, 0.05024372377820739, 0.7871516725252492, 0.13398326340855304, 0.03349581585213826, 0.9699754915419408, 0.041867289315800034, 0.9629476542634008, 0.9673429775983492, 0.16532857995940278, 0.8266428997970139, 0.18181855497152985, 0.024793439314299524, 0.0991737572571981, 0.6942163008003867, 0.09771760160699498, 0.09771760160699498, 0.04885880080349749, 0.7817408128559599, 0.9672861933612693, 0.9250739647050292, 0.03426199869277886, 0.5857893206934461, 0.05374213951316019, 0.29558176732238106, 0.048367925561844174, 0.016122641853948058, 0.05402551399607106, 0.7563571959449948, 0.1890892989862487, 0.06026473706257859, 0.06026473706257859, 0.8437063188761001, 0.026667849927939802, 0.946708672441863, 0.026667849927939802, 0.5485882895866889, 0.2021114751108854, 0.15158360633316403, 0.09383747058719678, 0.9327568512900266, 0.07462054810320214, 0.9515599835902219, 0.9889064839202647, 0.9284735647923431, 0.9268108550604947, 0.9493243837830891, 0.07762613232457265, 0.638259310224264, 0.025875377441524215, 0.04312562906920702, 0.2156281453460351, 0.9535309292383166, 0.018696684887025816, 0.1568639720565049, 0.2654621065571621, 0.012066459388961915, 0.56712359128121, 0.24564225481853644, 0.7274789854241271, 0.009447779031482171, 0.018895558062964342, 0.9720099865486699, 0.1266616190767733, 0.06333080953838666, 0.8233005239990264, 0.9615488186255144, 0.02598780590879769, 0.9662542120396849, 0.11983838598986152, 0.8388687019290306, 0.038096306532273465, 0.0571444597984102, 0.19048153266136733, 0.6285890577825122, 0.07619261306454693, 0.28444188141963495, 0.09922391212312848, 0.3968956484925139, 0.09591644838569087, 0.12237615828519179, 0.9318655713989222, 0.9496159032346984, 0.048285554401764325, 0.9715701540193225, 0.05436002124235925, 0.9241203611201073, 0.26138559716538967, 0.058811759362212675, 0.24831631730712017, 0.43128623532289295, 0.3345434421872315, 0.18734432762484962, 0.468360819062124, 0.11353208128826475, 0.8514906096619856, 0.010050193841931442, 0.8090406042754811, 0.05527606613062293, 0.12562742302414304, 0.8735860752508355, 0.10418916493817305, 0.01602910229818047, 0.7969226538374561, 0.016836394095157522, 0.14030328412631268, 0.016836394095157522, 0.028060656825262535, 0.8135634681914458, 0.12845738971443882, 0.05709217320641725, 0.9088601157871681, 0.058636136502397934, 0.9862450326969331, 0.031085614203952384, 0.07253309980922223, 0.8703971977106668, 0.020723742802634924, 0.011825717828918642, 0.3429458170386406, 0.08278002480243049, 0.5439830201302575, 0.023651435657837283, 0.9640870350822455, 0.024720180386724244, 0.9676132581134457, 0.061386809094463486, 0.15346702273615873, 0.7673351136807937, 0.9827495596585373, 0.10410989890991253, 0.8707373363374502, 0.018929072529075004, 0.07469762607628518, 0.07469762607628518, 0.821673886839137, 0.8534756753893022, 0.12192509648418604, 0.020320849414031006, 0.019703520713962207, 0.9654725149841482, 0.3284858119223442, 0.22194987292050286, 0.07102395933456092, 0.3817537814232649, 0.0641511425950397, 0.010691857099173285, 0.02138371419834657, 0.8981159963305559, 0.9648742846864276, 0.057090298853054514, 0.9134447816488722, 0.9735530159748337, 0.2325244845147366, 0.7626803092083361, 0.9457284144805724, 0.9211384381396414, 0.06140922920930943, 0.9807122292794972, 0.9457931726056643, 0.07646695338815279, 0.10923850484021828, 0.8083649358176153, 0.010923850484021828, 0.9682068903592457, 0.0202013863296753, 0.2222152496264283, 0.2676683688681977, 0.3434235676044801, 0.15151039747256476, 0.4797117251175145, 0.08158362672066573, 0.21864411961138414, 0.14032383795954503, 0.08158362672066573, 0.6901508838471436, 0.31124451624479027, 0.2050494003325715, 0.36615964345102053, 0.08787831442824492, 0.34052846840944906, 0.9331133050440935, 0.06220755366960624, 0.9646827249142217, 0.031118797577878117, 0.9715195133875311, 0.9785864560033001, 0.9673118811500623, 0.9288830198121032, 0.2769443032388642, 0.05934520783689947, 0.6725790221515273, 0.9673105146627561, 0.21104699622650952, 0.29363060344557845, 0.2569267780148812, 0.16057923625930073, 0.07799562904023179, 0.31283312515060296, 0.08938089290017229, 0.5213885419176716, 0.044690446450086144, 0.033517834837564604, 0.3758726593724172, 0.06834048352225768, 0.4741121044356626, 0.06834048352225768, 0.01708512088056442, 0.843396549938495, 0.043623959479577326, 0.014541319826525775, 0.08724791895915465, 0.012508935716405496, 0.2626876500445154, 0.08756255001483847, 0.6254467858202748, 0.05542121150961871, 0.08313181726442807, 0.027710605754809357, 0.8313181726442807, 0.9175761566094907, 0.07646467971745755, 0.8769022751296122, 0.06189898412679615, 0.030949492063398074, 0.02063299470893205, 0.12015027662293451, 0.030037569155733627, 0.060075138311467255, 0.7809767980490744, 0.08524671344989537, 0.08524671344989537, 0.028415571149965124, 0.7956359921990235, 0.1253255942660022, 0.025065118853200438, 0.7268884467428127, 0.1253255942660022, 0.9124281865520285, 0.9006358792457584, 0.07205087033966066, 0.07479259362041485, 0.7396156480241024, 0.1329646108807375, 0.016620576360092187, 0.03324115272018437, 0.12251457564025975, 0.011668054822881881, 0.8342659198360545, 0.023336109645763763, 0.005834027411440941, 0.01592590872504648, 0.2707404483257902, 0.0796295436252324, 0.6370363490018592, 0.9641528085474502, 0.007573354711440026, 0.8406423729698428, 0.05301348298008018, 0.09845361124872033, 0.9840751550571745, 0.7843593328405666, 0.1546624036587033, 0.011047314547050234, 0.044189258188200936, 0.5901377408928055, 0.010444915768014255, 0.287235183620392, 0.06266949460808553, 0.047002120956064146, 0.1463225563985592, 0.33654187971668614, 0.49749669175510125, 0.01463225563985592, 0.9268720268939403, 0.9738167686217328, 0.019476335372434657, 0.03618913688755973, 0.054283705331339596, 0.9047284221889933, 0.016337913997711215, 0.9475990118672504, 0.016337913997711215, 0.49629338380688276, 0.4411496744950069, 0.04901663049944521, 0.018381236437291955, 0.623173684688203, 0.008199653745897408, 0.20499134364743518, 0.1065954986966663, 0.05739757622128185, 0.08435262992491926, 0.40971277392103644, 0.036151127110679686, 0.4217631496245963, 0.048201502814239586, 0.5076450818101635, 0.04333555576428225, 0.26620412826630524, 0.148579048334682, 0.0371447620836705, 0.9636134092945491, 0.6729679467566955, 0.008412099334458693, 0.20189038402700862, 0.050472596006752156, 0.06729679467566954, 0.8043651304768972, 0.17874780677264382, 0.005958260225754794, 0.011916520451509588, 0.015573759444403201, 0.46721278333209604, 0.18688511333283842, 0.038934398611008, 0.2881145497214592, 0.685318757995546, 0.12320337222391838, 0.10780295069592859, 0.04620126458396939, 0.03850105381997449, 0.9216641317145465, 0.02333326915733029, 0.04666653831466058, 0.011666634578665146, 0.9463350098252619, 0.037853400393010474, 0.8933280768254315, 0.05955520512169543, 0.029777602560847716, 0.03160030580141702, 0.9164088682410936, 0.03160030580141702, 0.43107200897219755, 0.021200262736337582, 0.45933902595398096, 0.08126767382262741, 0.0035333771227229306, 0.8573270627683454, 0.14288784379472422, 0.8915990672468896, 0.04953328151371609, 0.9711094662229761, 0.9612811699009844, 0.9475691736022059, 0.04407298481870725, 0.045039013711408345, 0.900780274228167, 0.045039013711408345, 0.8314944485995291, 0.05939246061425208, 0.0989874343570868, 0.03018657917831799, 0.08049754447551465, 0.8452242169929037, 0.03018657917831799, 0.04992157113354103, 0.0713165301907729, 0.5134790173735648, 0.37084595699201905, 0.04126032190406044, 0.12378096571218132, 0.7839461161771484, 0.1705468775426651, 0.15504261594787735, 0.46512784784363204, 0.19638731353397798, 0.010336174396525157, 0.5271464234042355, 0.42982708369883815, 0.0324397799017991, 0.007752355833222586, 0.6124361108245843, 0.16279947249767432, 0.031009423332890345, 0.18605653999734206, 0.9206371529561367, 0.07464625564509215, 0.9552194880623701, 0.03124549426959098, 0.9061193338181385, 0.01562274713479549, 0.03124549426959098, 0.9855694515768116, 0.9229998960905681, 0.07178888080704418, 0.13493197518737657, 0.8545691761867182, 0.11454560135227114, 0.12981834819924062, 0.7330918486545352, 0.01018183123131299, 0.012727289039141238, 0.7597472692528926, 0.23701517374128703, 0.2011984275416794, 0.7880271745382443, 0.04914357541948209, 0.8845843575506777, 0.023176665839269955, 0.42645065144256716, 0.42645065144256716, 0.11124799602849578, 0.013905999503561972, 0.14878301423524407, 0.830705162813446, 0.012398584519603672, 0.012398584519603672, 0.019136457946611944, 0.21050103741273138, 0.1339552056262836, 0.6315031122381941, 0.49048562211653246, 0.00784776995386452, 0.4277034624856163, 0.05101050470011938, 0.02354330986159356, 0.966305750460677, 0.9538625526127231, 0.14491190687719258, 0.8332434645438572, 0.018113988359649072, 0.07700408974214207, 0.33689289262187155, 0.12513164583098085, 0.10588062339544535, 0.35614391505740706, 0.07402736655385143, 0.913004187497501, 0.17591675416581554, 0.8041908761865854, 0.24094777704679965, 0.14682755163789354, 0.44424746393003683, 0.12423869753975607, 0.04141289917991869, 0.8980564858907932, 0.01870951012272486, 0.01870951012272486, 0.03741902024544972, 0.989218241858758, 0.5679563921803653, 0.08414168773042449, 0.16828337546084898, 0.07362397676412143, 0.10517710966303061, 0.023526110547062978, 0.8469399796942672, 0.05881527636765744, 0.05881527636765744, 0.9910664355618173, 0.912414668988282, 0.9302865219297192, 0.021142875498402706, 0.021142875498402706, 0.059289568147826474, 0.841911867699136, 0.04743165451826118, 0.04743165451826118, 0.1462141275033568, 0.026584386818792143, 0.5848565100134272, 0.23925948136912928, 0.9641653665390162, 0.9730728856465546, 0.013463961318313795, 0.06731980659156898, 0.690028017563582, 0.18849545845639315, 0.03702589362536294, 0.08277757348661749, 0.8277757348661748, 0.2726587406021189, 0.23857639802685404, 0.3408234257526486, 0.15337054158869187, 0.8136632596027108, 0.8878548264764066, 0.05222675449861215, 0.04715170474025312, 0.7544272758440499, 0.01178792618506328, 0.10609133566556952, 0.08251548329544296, 0.015912370641915665, 0.7956185320957833, 0.06364948256766266, 0.12729896513532532, 0.8652659625199461, 0.5383777062110536, 0.2170877847625216, 0.09117686960025907, 0.15196144933376513, 0.010460296882017429, 0.8891252349714815, 0.010460296882017429, 0.08368237505613943, 0.8994169772377759, 0.008854591673448495, 0.5932576421210491, 0.07969132506103646, 0.15938265012207292, 0.15938265012207292, 0.8639057222027764, 0.08860571509772065, 0.044302857548860326, 0.3286764493976233, 0.41333553484852625, 0.14939838608982878, 0.10955881646587443, 0.051799027529913055, 0.8805834680085219, 0.9459929587657172, 0.04614599798857157, 0.11248769967926632, 0.871779672514314, 0.9819128675755999, 0.05486354552553296, 0.7406578645946948, 0.10972709105106591, 0.05486354552553296, 0.041147659144149716, 0.9902533534287862, 0.06011994579777572, 0.9017991869666359, 0.10877520505709379, 0.8702016404567503, 0.10742220559687027, 0.8593776447749621, 0.05487497704741407, 0.9054371212823322, 0.027437488523707036, 0.9793676529466833, 0.986789016756468, 0.9641848068416469, 0.03883918704235077, 0.7088151635229015, 0.05825878056352616, 0.1553567481694031, 0.04854898380293846, 0.15488227336468063, 0.13939404602821256, 0.061952909345872255, 0.6350173207951906, 0.9483276557041741, 0.03469491423307954, 0.05179804583127164, 0.880566779131618, 0.4963165287193554, 0.018728925612051146, 0.2809338841807672, 0.10300909086628131, 0.09832685946326852, 0.9618152865536393, 0.8218377217140455, 0.1643675443428091, 0.00966867907898877, 0.3732017241962024, 0.017416080462489446, 0.5859267069880377, 0.003732017241962024, 0.019904091957130794, 0.8659792137868291, 0.050939953752166416, 0.008489992292027735, 0.07640993062824962, 0.9235707754728876, 0.0263877364420825, 0.052775472884165, 0.05483220545047664, 0.9321474926581028, 0.174740995232995, 0.04077289888769883, 0.48927478665238594, 0.27376089253169217, 0.017474099523299497, 0.011178414376486328, 0.10060572938837696, 0.25710353065918556, 0.5477423044478301, 0.08942731501189062, 0.05840977193948169, 0.3337701253684668, 0.1418523032815984, 0.4589339223816418, 0.13497649940935352, 0.26995299881870705, 0.07362354513237464, 0.5153648159266225, 0.9027195155427021, 0.009824191652680577, 0.42735233689160507, 0.2161322163589727, 0.08841772487412519, 0.2603410787960353, 0.41761890807043156, 0.11778994843012172, 0.0642490627800664, 0.3962025538104094, 0.016253622398252312, 0.04876086719475694, 0.0731413007921354, 0.04063405599563078, 0.8208079311117418, 0.8852935947349823, 0.026827078628332796, 0.10730831451333118, 0.9433915034313545, 0.04965218439112392, 0.9728935132112084, 0.3453571352024592, 0.47309196603076603, 0.1088111521870762, 0.05204011626338426, 0.014192758980922981, 0.7838269279627942, 0.16217108854402637, 0.04054277213600659, 0.013514257378668865, 0.9834906253879753, 0.964224068999161, 0.024410735924029394, 0.9661384095953528, 0.023564351453545188, 0.023564351453545188, 0.07688368242452444, 0.9097902420235392, 0.963611499595252, 0.008238496669676664, 0.34807648429383903, 0.3068840009454557, 0.014417369171934162, 0.3213013701173899, 0.12191863489722708, 0.292604723753345, 0.04876745395889083, 0.5333940276753685, 0.051895429214870996, 0.19028324045452696, 0.7611329618181079, 0.049138422795218496, 0.8844916103139329, 0.11160285355390578, 0.013950356694238223, 0.05580142677695289, 0.7672696181831022, 0.05580142677695289, 0.014498135375445444, 0.11598508300356355, 0.10148694762811811, 0.7684011748986085, 0.014498135375445444, 0.9636307676968372, 0.8797293083496194, 0.09163846961975201, 0.018327693923950405, 0.7736358830341796, 0.07627396029914447, 0.02179256008546985, 0.14165164055555401, 0.9636158843839905, 0.0210286326828522, 0.7780594092655314, 0.0841145307314088, 0.056076353820939194, 0.06308589804855659, 0.9898668422100148, 0.39349656234132885, 0.10416085473741057, 0.5034441312308178, 0.08996149283694387, 0.7796662712535135, 0.14993582139490644, 0.43673029167626415, 0.5415455616785675, 0.9612679553793522, 0.9193054150886827, 0.8081720621791849, 0.01430393030405637, 0.10012751212839459, 0.050063756064197294, 0.02860786060811274, 0.06729378039059673, 0.11215630065099456, 0.15701882091139238, 0.6729378039059674, 0.1299187708834625, 0.822818882261929, 0.11164762317537659, 0.8559651110112205, 0.9583503221324906, 0.03422679721901752, 0.9757545118362273, 0.026924671016248517, 0.10769868406499407, 0.8077401304874555, 0.053849342032497034, 0.9803513943478112, 0.047028820252474096, 0.8935475847970078, 0.047028820252474096, 0.11046985259596995, 0.42179398263915796, 0.03682328419865665, 0.4284891252207319, 0.024527681120644053, 0.08175893706881351, 0.34338753568901675, 0.5477848783610505, 0.7725953846320726, 0.24857101529640108, 0.37482930878028736, 0.07891143342742891, 0.07102029008468602, 0.2248975852681724, 0.88295478353307, 0.08026861668482455, 0.8251168239257771, 0.023574766397879348, 0.14144859838727608, 0.011787383198939674, 0.09619443178516034, 0.04809721589258017, 0.8657498860664431, 0.9423156841257161, 0.9666739327377712, 0.03375437225976538, 0.16202098684687383, 0.7628488130706976, 0.03375437225976538, 0.013501748903906152, 0.9232652116403786, 0.06839001567706508, 0.5776901524888854, 0.3011363560846318, 0.03072819960047263, 0.0921845988014179, 0.5202757033546537, 0.09459558242811884, 0.2364889560702971, 0.10551045732367102, 0.04729779121405942, 0.11521171784618989, 0.05236896265735904, 0.7384023734687625, 0.06284275518883085, 0.03142137759441543, 0.7261851345512743, 0.24690294574743327, 0.02178555403653823, 0.08307089190468457, 0.8860895136499687, 0.02769029730156152, 0.9706054409706468, 0.9009669057319359, 0.07207735245855487, 0.018019338114638718, 0.2840711620848858, 0.22570037535511475, 0.1673295886253437, 0.21791760379114528, 0.1050674161135879, 0.1093365688542644, 0.1796243631177201, 0.5388730893531603, 0.14838534344507312, 0.02342926475448523, 0.9744586381020762, 0.9757574902516136, 0.9511281587155573, 0.015866157947773636, 0.9202371609708708, 0.06346463179109454, 0.920646221786528, 0.06137641478576853, 0.06735380081113375, 0.2087967825145146, 0.6533318678679974, 0.06061842073002037, 0.01347076016222675], \"Term\": [\"000\", \"000\", \"000\", \"000\", \"000\", \"1959\", \"1959\", \"1960\", \"1960\", \"1960\", \"1961\", \"1961\", \"1961\", \"1961\", \"1961\", \"30\", \"30\", \"30\", \"30\", \"30\", \"62\", \"academic\", \"act\", \"act\", \"act\", \"act\", \"act\", \"adjustments\", \"adjustments\", \"administration\", \"administration\", \"administration\", \"administration\", \"adopting\", \"agreement\", \"agreement\", \"agreement\", \"aid\", \"aid\", \"aid\", \"aid\", \"aid\", \"aircraft\", \"aircraft\", \"alexander\", \"allocation\", \"allocation\", \"american\", \"american\", \"american\", \"american\", \"american\", \"anne\", \"anti\", \"anti\", \"anti\", \"appearances\", \"areas\", \"areas\", \"areas\", \"areas\", \"areas\", \"art\", \"art\", \"art\", \"art\", \"assessment\", \"assigned\", \"assigned\", \"authorized\", \"authorized\", \"authorized\", \"available\", \"available\", \"available\", \"available\", \"away\", \"away\", \"away\", \"away\", \"baby\", \"bankers\", \"banks\", \"banks\", \"baseball\", \"bed\", \"bed\", \"berlin\", \"berlin\", \"billion\", \"billion\", \"black\", \"black\", \"black\", \"board\", \"board\", \"board\", \"board\", \"board\", \"boats\", \"boats\", \"bombs\", \"bonds\", \"bonds\", \"bride\", \"business\", \"business\", \"business\", \"business\", \"business\", \"calendar\", \"calendar\", \"calendar\", \"came\", \"came\", \"came\", \"came\", \"campus\", \"captain\", \"cars\", \"cars\", \"cars\", \"castro\", \"catholic\", \"catholic\", \"cattle\", \"cattle\", \"cattle\", \"chamber\", \"chamber\", \"charter\", \"chemical\", \"chemical\", \"china\", \"china\", \"chinese\", \"city\", \"city\", \"city\", \"city\", \"claim\", \"claim\", \"claim\", \"claim\", \"claims\", \"claims\", \"claims\", \"claims\", \"class\", \"class\", \"class\", \"class\", \"classical\", \"clay\", \"clay\", \"clay\", \"clerical\", \"cloth\", \"clothes\", \"co\", \"co\", \"co\", \"co\", \"coach\", \"coal\", \"coal\", \"coat\", \"collective\", \"collective\", \"college\", \"college\", \"college\", \"college\", \"colleges\", \"colleges\", \"colleges\", \"colleges\", \"colored\", \"colors\", \"colors\", \"come\", \"come\", \"come\", \"come\", \"come\", \"committee\", \"committee\", \"committee\", \"commodities\", \"commodities\", \"commodities\", \"communist\", \"communist\", \"communist\", \"company\", \"company\", \"company\", \"company\", \"compared\", \"compared\", \"components\", \"congo\", \"connections\", \"conservation\", \"coordination\", \"cost\", \"cost\", \"cost\", \"cost\", \"cost\", \"couldn\", \"couldn\", \"countries\", \"countries\", \"countries\", \"countries\", \"county\", \"county\", \"county\", \"county\", \"cousin\", \"creative\", \"creative\", \"creative\", \"cuba\", \"cuba\", \"cuban\", \"curriculum\", \"curriculum\", \"daily\", \"daily\", \"daily\", \"daily\", \"daily\", \"day\", \"day\", \"day\", \"day\", \"day\", \"definition\", \"democratic\", \"democratic\", \"democrats\", \"denied\", \"denied\", \"department\", \"department\", \"department\", \"department\", \"design\", \"design\", \"design\", \"designer\", \"designer\", \"development\", \"development\", \"development\", \"development\", \"didn\", \"didn\", \"didn\", \"don\", \"don\", \"don\", \"don\", \"don\", \"door\", \"door\", \"door\", \"drill\", \"drill\", \"dry\", \"east\", \"east\", \"east\", \"east\", \"education\", \"education\", \"education\", \"education\", \"education\", \"eisenhower\", \"eisenhower\", \"electronic\", \"engineer\", \"engineer\", \"engineer\", \"entrance\", \"equipment\", \"equipment\", \"equipment\", \"exercise\", \"exercise\", \"exercise\", \"eyes\", \"eyes\", \"eyes\", \"faculty\", \"faculty\", \"federal\", \"federal\", \"federal\", \"federal\", \"feed\", \"feed\", \"feed\", \"feed\", \"fig\", \"filing\", \"filing\", \"fingers\", \"fiscal\", \"fiscal\", \"flowers\", \"forests\", \"forests\", \"frames\", \"fulfill\", \"game\", \"game\", \"game\", \"game\", \"gen\", \"general\", \"general\", \"general\", \"general\", \"general\", \"good\", \"good\", \"good\", \"good\", \"good\", \"got\", \"got\", \"government\", \"government\", \"government\", \"government\", \"guests\", \"guests\", \"hadn\", \"hadn\", \"hair\", \"ham\", \"handsome\", \"hated\", \"hearing\", \"hearing\", \"hearing\", \"hell\", \"high\", \"high\", \"high\", \"high\", \"high\", \"home\", \"home\", \"home\", \"home\", \"home\", \"house\", \"house\", \"house\", \"house\", \"house\", \"inch\", \"inch\", \"inch\", \"inch\", \"income\", \"income\", \"income\", \"income\", \"india\", \"india\", \"india\", \"india\", \"industrial\", \"industrial\", \"industry\", \"industry\", \"industry\", \"industry\", \"insurance\", \"insurance\", \"insurance\", \"insurance\", \"interference\", \"interference\", \"interference\", \"interference\", \"interior\", \"interior\", \"interior\", \"interior\", \"inventories\", \"investment\", \"investment\", \"island\", \"island\", \"island\", \"island\", \"island\", \"john\", \"john\", \"john\", \"john\", \"john\", \"junior\", \"junior\", \"junior\", \"junior\", \"katanga\", \"kennedy\", \"kennedy\", \"kennedy\", \"kennedy\", \"khrushchev\", \"knew\", \"knew\", \"knew\", \"knew\", \"know\", \"know\", \"know\", \"know\", \"know\", \"labor\", \"labor\", \"labor\", \"labor\", \"laboratory\", \"laos\", \"laos\", \"leaders\", \"leaders\", \"leaders\", \"league\", \"league\", \"league\", \"left\", \"left\", \"left\", \"left\", \"let\", \"let\", \"let\", \"let\", \"let\", \"level\", \"level\", \"level\", \"level\", \"level\", \"life\", \"life\", \"life\", \"life\", \"life\", \"liked\", \"little\", \"little\", \"little\", \"little\", \"little\", \"ll\", \"ll\", \"ll\", \"ll\", \"local\", \"local\", \"local\", \"local\", \"local\", \"look\", \"look\", \"look\", \"look\", \"look\", \"looked\", \"looked\", \"looked\", \"looked\", \"machine\", \"machine\", \"machinery\", \"machinery\", \"machinery\", \"machines\", \"machines\", \"machines\", \"man\", \"man\", \"man\", \"man\", \"man\", \"manufacturers\", \"manufacturers\", \"manufacturing\", \"manufacturing\", \"marketing\", \"mathematics\", \"mayor\", \"mayor\", \"meat\", \"meat\", \"meat\", \"medical\", \"medical\", \"medical\", \"meeting\", \"meeting\", \"meeting\", \"meeting\", \"members\", \"members\", \"members\", \"members\", \"membership\", \"membership\", \"membership\", \"men\", \"men\", \"men\", \"men\", \"men\", \"military\", \"military\", \"military\", \"million\", \"million\", \"million\", \"million\", \"million\", \"missile\", \"missile\", \"missiles\", \"monday\", \"monday\", \"monday\", \"monday\", \"moscow\", \"mother\", \"mother\", \"motors\", \"motors\", \"mr\", \"mr\", \"mr\", \"mr\", \"mr\", \"mrs\", \"mrs\", \"music\", \"music\", \"musical\", \"musical\", \"national\", \"national\", \"national\", \"national\", \"national\", \"nations\", \"nations\", \"nations\", \"nations\", \"officer\", \"officer\", \"officer\", \"officer\", \"old\", \"old\", \"old\", \"old\", \"old\", \"opposition\", \"pale\", \"party\", \"party\", \"party\", \"pay\", \"pay\", \"pay\", \"pay\", \"pay\", \"payment\", \"payment\", \"payments\", \"payments\", \"people\", \"people\", \"people\", \"people\", \"people\", \"pieces\", \"pieces\", \"pieces\", \"pieces\", \"pink\", \"place\", \"place\", \"place\", \"place\", \"place\", \"planning\", \"planning\", \"planning\", \"planning\", \"player\", \"polaris\", \"police\", \"police\", \"police\", \"political\", \"political\", \"political\", \"political\", \"pool\", \"pool\", \"pool\", \"pool\", \"pope\", \"premier\", \"president\", \"president\", \"president\", \"president\", \"president\", \"prestige\", \"prestige\", \"problem\", \"problem\", \"problem\", \"problem\", \"proceedings\", \"procurement\", \"procurement\", \"production\", \"production\", \"production\", \"production\", \"production\", \"products\", \"products\", \"products\", \"products\", \"professors\", \"program\", \"program\", \"program\", \"program\", \"property\", \"property\", \"property\", \"property\", \"prosperity\", \"provide\", \"provide\", \"provide\", \"provide\", \"provide\", \"providence\", \"providence\", \"providence\", \"public\", \"public\", \"public\", \"public\", \"puerto\", \"puerto\", \"race\", \"race\", \"radiation\", \"radiation\", \"railroad\", \"range\", \"range\", \"range\", \"range\", \"range\", \"rayburn\", \"recognition\", \"recognition\", \"recommendation\", \"recommendation\", \"recorded\", \"recorded\", \"recreation\", \"recreation\", \"recreation\", \"rehabilitation\", \"republican\", \"republicans\", \"research\", \"research\", \"research\", \"research\", \"research\", \"return\", \"return\", \"return\", \"return\", \"rhode\", \"rhode\", \"rico\", \"rico\", \"right\", \"right\", \"right\", \"right\", \"right\", \"robinson\", \"room\", \"room\", \"room\", \"said\", \"said\", \"said\", \"said\", \"said\", \"sales\", \"sales\", \"sales\", \"sales\", \"sat\", \"sat\", \"sat\", \"savings\", \"savings\", \"school\", \"school\", \"school\", \"school\", \"school\", \"schools\", \"schools\", \"schools\", \"schools\", \"schools\", \"secretary\", \"secretary\", \"secretary\", \"secretary\", \"section\", \"section\", \"section\", \"section\", \"sectors\", \"service\", \"service\", \"service\", \"service\", \"service\", \"services\", \"services\", \"services\", \"services\", \"shall\", \"shall\", \"shall\", \"shall\", \"shall\", \"shares\", \"shares\", \"shares\", \"shelter\", \"shelter\", \"shipments\", \"small\", \"small\", \"small\", \"small\", \"small\", \"son\", \"son\", \"son\", \"son\", \"southern\", \"soviet\", \"soviet\", \"speaker\", \"speaker\", \"speaker\", \"st\", \"st\", \"stared\", \"state\", \"state\", \"state\", \"state\", \"state\", \"states\", \"states\", \"states\", \"states\", \"stations\", \"stations\", \"stations\", \"stockholders\", \"stockholders\", \"student\", \"student\", \"student\", \"student\", \"student\", \"students\", \"students\", \"students\", \"students\", \"students\", \"studio\", \"sun\", \"sun\", \"sun\", \"sure\", \"sure\", \"sure\", \"sure\", \"sweet\", \"system\", \"system\", \"system\", \"system\", \"system\", \"systems\", \"tax\", \"tax\", \"tax\", \"teachers\", \"teachers\", \"teachers\", \"technical\", \"technical\", \"tends\", \"thereof\", \"thought\", \"thought\", \"thought\", \"thought\", \"thought\", \"title\", \"title\", \"title\", \"title\", \"tractor\", \"tractor\", \"treasury\", \"treasury\", \"trees\", \"trees\", \"troops\", \"trust\", \"trust\", \"trust\", \"trust\", \"trustees\", \"unions\", \"unions\", \"unions\", \"united\", \"united\", \"united\", \"united\", \"university\", \"university\", \"university\", \"university\", \"upstairs\", \"use\", \"use\", \"use\", \"use\", \"use\", \"utility\", \"utility\", \"ve\", \"ve\", \"ve\", \"ve\", \"vehicles\", \"vehicles\", \"vehicles\", \"vocational\", \"walls\", \"war\", \"war\", \"war\", \"war\", \"war\", \"wasn\", \"wasn\", \"water\", \"water\", \"water\", \"water\", \"way\", \"way\", \"way\", \"way\", \"way\", \"week\", \"week\", \"week\", \"week\", \"week\", \"went\", \"went\", \"went\", \"west\", \"west\", \"west\", \"windows\", \"woman\", \"woman\", \"woman\", \"work\", \"work\", \"work\", \"work\", \"work\", \"world\", \"world\", \"world\", \"world\", \"world\", \"yankees\", \"yards\", \"yellow\", \"yesterday\", \"yesterday\", \"yesterday\", \"yield\", \"yield\", \"york\", \"york\", \"york\", \"york\", \"york\"]}, \"R\": 30, \"lambda.step\": 0.01, \"plot.opts\": {\"xlab\": \"PC1\", \"ylab\": \"PC2\"}, \"topic.order\": [1, 2, 3, 4, 5]};\n",
       "\n",
       "function LDAvis_load_lib(url, callback){\n",
       "  var s = document.createElement('script');\n",
       "  s.src = url;\n",
       "  s.async = true;\n",
       "  s.onreadystatechange = s.onload = callback;\n",
       "  s.onerror = function(){console.warn(\"failed to load library \" + url);};\n",
       "  document.getElementsByTagName(\"head\")[0].appendChild(s);\n",
       "}\n",
       "\n",
       "if(typeof(LDAvis) !== \"undefined\"){\n",
       "   // already loaded: just create the visualization\n",
       "   !function(LDAvis){\n",
       "       new LDAvis(\"#\" + \"ldavis_el1411222392107284646828075858\", ldavis_el1411222392107284646828075858_data);\n",
       "   }(LDAvis);\n",
       "}else if(typeof define === \"function\" && define.amd){\n",
       "   // require.js is available: use it to load d3/LDAvis\n",
       "   require.config({paths: {d3: \"https://d3js.org/d3.v5\"}});\n",
       "   require([\"d3\"], function(d3){\n",
       "      window.d3 = d3;\n",
       "      LDAvis_load_lib(\"https://cdn.jsdelivr.net/gh/bmabey/pyLDAvis@3.3.1/pyLDAvis/js/ldavis.v3.0.0.js\", function(){\n",
       "        new LDAvis(\"#\" + \"ldavis_el1411222392107284646828075858\", ldavis_el1411222392107284646828075858_data);\n",
       "      });\n",
       "    });\n",
       "}else{\n",
       "    // require.js not available: dynamically load d3 & LDAvis\n",
       "    LDAvis_load_lib(\"https://d3js.org/d3.v5.js\", function(){\n",
       "         LDAvis_load_lib(\"https://cdn.jsdelivr.net/gh/bmabey/pyLDAvis@3.3.1/pyLDAvis/js/ldavis.v3.0.0.js\", function(){\n",
       "                 new LDAvis(\"#\" + \"ldavis_el1411222392107284646828075858\", ldavis_el1411222392107284646828075858_data);\n",
       "            })\n",
       "         });\n",
       "}\n",
       "</script>"
      ],
      "text/plain": [
       "<IPython.core.display.HTML object>"
      ]
     },
     "execution_count": 327,
     "metadata": {},
     "output_type": "execute_result"
    }
   ],
   "source": [
    "pyLDAvis.display(lda_display)"
   ]
  },
  {
   "cell_type": "markdown",
   "metadata": {},
   "source": [
    "Q: What conclusions do you draw from the visualization above? Please address the principal component scatterplot and the salient terms graph.\n",
    "\n",
    "A: <!-- Your answer here --> \n"
   ]
  }
 ],
 "metadata": {
  "kernelspec": {
   "display_name": "Python 3",
   "language": "python",
   "name": "python3"
  },
  "language_info": {
   "codemirror_mode": {
    "name": "ipython",
    "version": 3
   },
   "file_extension": ".py",
   "mimetype": "text/x-python",
   "name": "python",
   "nbconvert_exporter": "python",
   "pygments_lexer": "ipython3",
   "version": "3.8.3"
  }
 },
 "nbformat": 4,
 "nbformat_minor": 5
}
